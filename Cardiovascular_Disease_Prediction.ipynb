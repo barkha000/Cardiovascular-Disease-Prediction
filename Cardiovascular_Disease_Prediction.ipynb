{
  "nbformat": 4,
  "nbformat_minor": 0,
  "metadata": {
    "colab": {
      "name": "Cardiovascular Disease Prediction.ipynb",
      "provenance": [],
      "collapsed_sections": []
    },
    "kernelspec": {
      "display_name": "Python 3",
      "name": "python3"
    },
    "language_info": {
      "name": "python"
    }
  },
  "cells": [
    {
      "cell_type": "markdown",
      "metadata": {
        "id": "WlEqpD5RQYLk"
      },
      "source": [
        "\n",
        "Features in Datasets\n",
        "\n",
        "1. Age | Objective Feature | age | int (days)\n",
        "2. Height | Objective Feature | height | int (cm) |\n",
        "3. Weight | Objective Feature | weight | float (kg)|\n",
        "4. Gender | Objective Feature | gender | categorical code |\n",
        "5. Systolic blood pressure | Examination Feature | ap_hi | int |\n",
        "6. Diastolic blood pressure | Examination Feature | ap_lo | int |\n",
        "7. Cholesterol | Examination Feature | cholesterol | 1: normal, 2: above   normal, 3: well above normal |\n",
        "8. Glucose | Examination Feature | gluc | 1: normal, 2: above normal, 3: well above normal |\n",
        "9. Smoking | Subjective Feature | smoke | binary |\n",
        "10. Alcohol intake | Subjective Feature | alco | binary |\n",
        "11. Physical activity | Subjective Feature | active | binary |\n",
        "12. Presence or absence of cardiovascular disease | Target Variable | cardio | binary |\n",
        "\n",
        "\n",
        "\n"
      ]
    },
    {
      "cell_type": "code",
      "metadata": {
        "id": "BmLV9udEzumx"
      },
      "source": [
        "#Import necessary libraries\n",
        "import numpy as np\n",
        "import pandas as pd\n",
        "import matplotlib.pyplot as plt\n",
        "import seaborn as sns\n",
        "import warnings\n",
        "warnings.filterwarnings('ignore')\n",
        "import sys\n",
        "from sklearn import preprocessing"
      ],
      "execution_count": 2,
      "outputs": []
    },
    {
      "cell_type": "code",
      "metadata": {
        "colab": {
          "base_uri": "https://localhost:8080/"
        },
        "id": "ZowTfy-V0v8H",
        "outputId": "c54de608-eedf-49d7-832b-ede0b221d52e"
      },
      "source": [
        "# Read Dataset\n",
        "Data1 = pd.read_csv(\"cardio_train.csv\",delimiter=';',encoding = \"ISO-8859-1\")\n",
        "print(Data1.head())"
      ],
      "execution_count": 3,
      "outputs": [
        {
          "output_type": "stream",
          "text": [
            "   id    age  gender  height  weight  ...  gluc  smoke  alco  active  cardio\n",
            "0   0  18393       2     168    62.0  ...     1      0     0       1       0\n",
            "1   1  20228       1     156    85.0  ...     1      0     0       1       1\n",
            "2   2  18857       1     165    64.0  ...     1      0     0       0       1\n",
            "3   3  17623       2     169    82.0  ...     1      0     0       1       1\n",
            "4   4  17474       1     156    56.0  ...     1      0     0       0       0\n",
            "\n",
            "[5 rows x 13 columns]\n"
          ],
          "name": "stdout"
        }
      ]
    },
    {
      "cell_type": "markdown",
      "metadata": {
        "id": "vq7kyROOFIaR"
      },
      "source": [
        "# Data Preprocessing"
      ]
    },
    {
      "cell_type": "code",
      "metadata": {
        "colab": {
          "base_uri": "https://localhost:8080/"
        },
        "id": "D9W0IVo305kh",
        "outputId": "8051ebca-2300-4d94-b498-f66acd678d4a"
      },
      "source": [
        "# Print Data shape\n",
        "Data1.shape"
      ],
      "execution_count": 4,
      "outputs": [
        {
          "output_type": "execute_result",
          "data": {
            "text/plain": [
              "(70000, 13)"
            ]
          },
          "metadata": {
            "tags": []
          },
          "execution_count": 4
        }
      ]
    },
    {
      "cell_type": "code",
      "metadata": {
        "colab": {
          "base_uri": "https://localhost:8080/"
        },
        "id": "ffGIP52cHlHV",
        "outputId": "4514f11f-8440-432f-d682-d72295f436eb"
      },
      "source": [
        "# Check duplicates value\n",
        "a = Data1.duplicated()\n",
        "sum(a)"
      ],
      "execution_count": 5,
      "outputs": [
        {
          "output_type": "execute_result",
          "data": {
            "text/plain": [
              "0"
            ]
          },
          "metadata": {
            "tags": []
          },
          "execution_count": 5
        }
      ]
    },
    {
      "cell_type": "markdown",
      "metadata": {
        "id": "iPp61UBT4Arl"
      },
      "source": [
        "from above we get to know that there is no dulicate values"
      ]
    },
    {
      "cell_type": "code",
      "metadata": {
        "colab": {
          "base_uri": "https://localhost:8080/",
          "height": 202
        },
        "id": "92Uk26z0K9QR",
        "outputId": "9ed8c798-1dc2-4c18-ad32-31af0d0ce817"
      },
      "source": [
        "# Create dummies of column gender\n",
        "Data1 = pd.get_dummies(Data1, columns=['gender'])\n",
        "Data1.head()"
      ],
      "execution_count": 6,
      "outputs": [
        {
          "output_type": "execute_result",
          "data": {
            "text/html": [
              "<div>\n",
              "<style scoped>\n",
              "    .dataframe tbody tr th:only-of-type {\n",
              "        vertical-align: middle;\n",
              "    }\n",
              "\n",
              "    .dataframe tbody tr th {\n",
              "        vertical-align: top;\n",
              "    }\n",
              "\n",
              "    .dataframe thead th {\n",
              "        text-align: right;\n",
              "    }\n",
              "</style>\n",
              "<table border=\"1\" class=\"dataframe\">\n",
              "  <thead>\n",
              "    <tr style=\"text-align: right;\">\n",
              "      <th></th>\n",
              "      <th>id</th>\n",
              "      <th>age</th>\n",
              "      <th>height</th>\n",
              "      <th>weight</th>\n",
              "      <th>ap_hi</th>\n",
              "      <th>ap_lo</th>\n",
              "      <th>cholesterol</th>\n",
              "      <th>gluc</th>\n",
              "      <th>smoke</th>\n",
              "      <th>alco</th>\n",
              "      <th>active</th>\n",
              "      <th>cardio</th>\n",
              "      <th>gender_1</th>\n",
              "      <th>gender_2</th>\n",
              "    </tr>\n",
              "  </thead>\n",
              "  <tbody>\n",
              "    <tr>\n",
              "      <th>0</th>\n",
              "      <td>0</td>\n",
              "      <td>18393</td>\n",
              "      <td>168</td>\n",
              "      <td>62.0</td>\n",
              "      <td>110</td>\n",
              "      <td>80</td>\n",
              "      <td>1</td>\n",
              "      <td>1</td>\n",
              "      <td>0</td>\n",
              "      <td>0</td>\n",
              "      <td>1</td>\n",
              "      <td>0</td>\n",
              "      <td>0</td>\n",
              "      <td>1</td>\n",
              "    </tr>\n",
              "    <tr>\n",
              "      <th>1</th>\n",
              "      <td>1</td>\n",
              "      <td>20228</td>\n",
              "      <td>156</td>\n",
              "      <td>85.0</td>\n",
              "      <td>140</td>\n",
              "      <td>90</td>\n",
              "      <td>3</td>\n",
              "      <td>1</td>\n",
              "      <td>0</td>\n",
              "      <td>0</td>\n",
              "      <td>1</td>\n",
              "      <td>1</td>\n",
              "      <td>1</td>\n",
              "      <td>0</td>\n",
              "    </tr>\n",
              "    <tr>\n",
              "      <th>2</th>\n",
              "      <td>2</td>\n",
              "      <td>18857</td>\n",
              "      <td>165</td>\n",
              "      <td>64.0</td>\n",
              "      <td>130</td>\n",
              "      <td>70</td>\n",
              "      <td>3</td>\n",
              "      <td>1</td>\n",
              "      <td>0</td>\n",
              "      <td>0</td>\n",
              "      <td>0</td>\n",
              "      <td>1</td>\n",
              "      <td>1</td>\n",
              "      <td>0</td>\n",
              "    </tr>\n",
              "    <tr>\n",
              "      <th>3</th>\n",
              "      <td>3</td>\n",
              "      <td>17623</td>\n",
              "      <td>169</td>\n",
              "      <td>82.0</td>\n",
              "      <td>150</td>\n",
              "      <td>100</td>\n",
              "      <td>1</td>\n",
              "      <td>1</td>\n",
              "      <td>0</td>\n",
              "      <td>0</td>\n",
              "      <td>1</td>\n",
              "      <td>1</td>\n",
              "      <td>0</td>\n",
              "      <td>1</td>\n",
              "    </tr>\n",
              "    <tr>\n",
              "      <th>4</th>\n",
              "      <td>4</td>\n",
              "      <td>17474</td>\n",
              "      <td>156</td>\n",
              "      <td>56.0</td>\n",
              "      <td>100</td>\n",
              "      <td>60</td>\n",
              "      <td>1</td>\n",
              "      <td>1</td>\n",
              "      <td>0</td>\n",
              "      <td>0</td>\n",
              "      <td>0</td>\n",
              "      <td>0</td>\n",
              "      <td>1</td>\n",
              "      <td>0</td>\n",
              "    </tr>\n",
              "  </tbody>\n",
              "</table>\n",
              "</div>"
            ],
            "text/plain": [
              "   id    age  height  weight  ap_hi  ...  alco  active  cardio  gender_1  gender_2\n",
              "0   0  18393     168    62.0    110  ...     0       1       0         0         1\n",
              "1   1  20228     156    85.0    140  ...     0       1       1         1         0\n",
              "2   2  18857     165    64.0    130  ...     0       0       1         1         0\n",
              "3   3  17623     169    82.0    150  ...     0       1       1         0         1\n",
              "4   4  17474     156    56.0    100  ...     0       0       0         1         0\n",
              "\n",
              "[5 rows x 14 columns]"
            ]
          },
          "metadata": {
            "tags": []
          },
          "execution_count": 6
        }
      ]
    },
    {
      "cell_type": "code",
      "metadata": {
        "id": "YW82Bx8EMyGg"
      },
      "source": [
        "# Rename the columns \n",
        "Data1 = Data1.rename(columns = {'gender_1': 'female', 'gender_2': 'male'})"
      ],
      "execution_count": 7,
      "outputs": []
    },
    {
      "cell_type": "code",
      "metadata": {
        "colab": {
          "base_uri": "https://localhost:8080/",
          "height": 314
        },
        "id": "OTxfbJ9_Iwsf",
        "outputId": "79a78469-abde-4eb5-bddb-fc4445965d5a"
      },
      "source": [
        "# print summary of dataset\n",
        "Data1.describe()"
      ],
      "execution_count": 8,
      "outputs": [
        {
          "output_type": "execute_result",
          "data": {
            "text/html": [
              "<div>\n",
              "<style scoped>\n",
              "    .dataframe tbody tr th:only-of-type {\n",
              "        vertical-align: middle;\n",
              "    }\n",
              "\n",
              "    .dataframe tbody tr th {\n",
              "        vertical-align: top;\n",
              "    }\n",
              "\n",
              "    .dataframe thead th {\n",
              "        text-align: right;\n",
              "    }\n",
              "</style>\n",
              "<table border=\"1\" class=\"dataframe\">\n",
              "  <thead>\n",
              "    <tr style=\"text-align: right;\">\n",
              "      <th></th>\n",
              "      <th>id</th>\n",
              "      <th>age</th>\n",
              "      <th>height</th>\n",
              "      <th>weight</th>\n",
              "      <th>ap_hi</th>\n",
              "      <th>ap_lo</th>\n",
              "      <th>cholesterol</th>\n",
              "      <th>gluc</th>\n",
              "      <th>smoke</th>\n",
              "      <th>alco</th>\n",
              "      <th>active</th>\n",
              "      <th>cardio</th>\n",
              "      <th>female</th>\n",
              "      <th>male</th>\n",
              "    </tr>\n",
              "  </thead>\n",
              "  <tbody>\n",
              "    <tr>\n",
              "      <th>count</th>\n",
              "      <td>70000.000000</td>\n",
              "      <td>70000.000000</td>\n",
              "      <td>70000.000000</td>\n",
              "      <td>70000.000000</td>\n",
              "      <td>70000.000000</td>\n",
              "      <td>70000.000000</td>\n",
              "      <td>70000.000000</td>\n",
              "      <td>70000.000000</td>\n",
              "      <td>70000.000000</td>\n",
              "      <td>70000.000000</td>\n",
              "      <td>70000.000000</td>\n",
              "      <td>70000.000000</td>\n",
              "      <td>70000.000000</td>\n",
              "      <td>70000.000000</td>\n",
              "    </tr>\n",
              "    <tr>\n",
              "      <th>mean</th>\n",
              "      <td>49972.419900</td>\n",
              "      <td>19468.865814</td>\n",
              "      <td>164.359229</td>\n",
              "      <td>74.205690</td>\n",
              "      <td>128.817286</td>\n",
              "      <td>96.630414</td>\n",
              "      <td>1.366871</td>\n",
              "      <td>1.226457</td>\n",
              "      <td>0.088129</td>\n",
              "      <td>0.053771</td>\n",
              "      <td>0.803729</td>\n",
              "      <td>0.499700</td>\n",
              "      <td>0.650429</td>\n",
              "      <td>0.349571</td>\n",
              "    </tr>\n",
              "    <tr>\n",
              "      <th>std</th>\n",
              "      <td>28851.302323</td>\n",
              "      <td>2467.251667</td>\n",
              "      <td>8.210126</td>\n",
              "      <td>14.395757</td>\n",
              "      <td>154.011419</td>\n",
              "      <td>188.472530</td>\n",
              "      <td>0.680250</td>\n",
              "      <td>0.572270</td>\n",
              "      <td>0.283484</td>\n",
              "      <td>0.225568</td>\n",
              "      <td>0.397179</td>\n",
              "      <td>0.500003</td>\n",
              "      <td>0.476838</td>\n",
              "      <td>0.476838</td>\n",
              "    </tr>\n",
              "    <tr>\n",
              "      <th>min</th>\n",
              "      <td>0.000000</td>\n",
              "      <td>10798.000000</td>\n",
              "      <td>55.000000</td>\n",
              "      <td>10.000000</td>\n",
              "      <td>-150.000000</td>\n",
              "      <td>-70.000000</td>\n",
              "      <td>1.000000</td>\n",
              "      <td>1.000000</td>\n",
              "      <td>0.000000</td>\n",
              "      <td>0.000000</td>\n",
              "      <td>0.000000</td>\n",
              "      <td>0.000000</td>\n",
              "      <td>0.000000</td>\n",
              "      <td>0.000000</td>\n",
              "    </tr>\n",
              "    <tr>\n",
              "      <th>25%</th>\n",
              "      <td>25006.750000</td>\n",
              "      <td>17664.000000</td>\n",
              "      <td>159.000000</td>\n",
              "      <td>65.000000</td>\n",
              "      <td>120.000000</td>\n",
              "      <td>80.000000</td>\n",
              "      <td>1.000000</td>\n",
              "      <td>1.000000</td>\n",
              "      <td>0.000000</td>\n",
              "      <td>0.000000</td>\n",
              "      <td>1.000000</td>\n",
              "      <td>0.000000</td>\n",
              "      <td>0.000000</td>\n",
              "      <td>0.000000</td>\n",
              "    </tr>\n",
              "    <tr>\n",
              "      <th>50%</th>\n",
              "      <td>50001.500000</td>\n",
              "      <td>19703.000000</td>\n",
              "      <td>165.000000</td>\n",
              "      <td>72.000000</td>\n",
              "      <td>120.000000</td>\n",
              "      <td>80.000000</td>\n",
              "      <td>1.000000</td>\n",
              "      <td>1.000000</td>\n",
              "      <td>0.000000</td>\n",
              "      <td>0.000000</td>\n",
              "      <td>1.000000</td>\n",
              "      <td>0.000000</td>\n",
              "      <td>1.000000</td>\n",
              "      <td>0.000000</td>\n",
              "    </tr>\n",
              "    <tr>\n",
              "      <th>75%</th>\n",
              "      <td>74889.250000</td>\n",
              "      <td>21327.000000</td>\n",
              "      <td>170.000000</td>\n",
              "      <td>82.000000</td>\n",
              "      <td>140.000000</td>\n",
              "      <td>90.000000</td>\n",
              "      <td>2.000000</td>\n",
              "      <td>1.000000</td>\n",
              "      <td>0.000000</td>\n",
              "      <td>0.000000</td>\n",
              "      <td>1.000000</td>\n",
              "      <td>1.000000</td>\n",
              "      <td>1.000000</td>\n",
              "      <td>1.000000</td>\n",
              "    </tr>\n",
              "    <tr>\n",
              "      <th>max</th>\n",
              "      <td>99999.000000</td>\n",
              "      <td>23713.000000</td>\n",
              "      <td>250.000000</td>\n",
              "      <td>200.000000</td>\n",
              "      <td>16020.000000</td>\n",
              "      <td>11000.000000</td>\n",
              "      <td>3.000000</td>\n",
              "      <td>3.000000</td>\n",
              "      <td>1.000000</td>\n",
              "      <td>1.000000</td>\n",
              "      <td>1.000000</td>\n",
              "      <td>1.000000</td>\n",
              "      <td>1.000000</td>\n",
              "      <td>1.000000</td>\n",
              "    </tr>\n",
              "  </tbody>\n",
              "</table>\n",
              "</div>"
            ],
            "text/plain": [
              "                 id           age  ...        female          male\n",
              "count  70000.000000  70000.000000  ...  70000.000000  70000.000000\n",
              "mean   49972.419900  19468.865814  ...      0.650429      0.349571\n",
              "std    28851.302323   2467.251667  ...      0.476838      0.476838\n",
              "min        0.000000  10798.000000  ...      0.000000      0.000000\n",
              "25%    25006.750000  17664.000000  ...      0.000000      0.000000\n",
              "50%    50001.500000  19703.000000  ...      1.000000      0.000000\n",
              "75%    74889.250000  21327.000000  ...      1.000000      1.000000\n",
              "max    99999.000000  23713.000000  ...      1.000000      1.000000\n",
              "\n",
              "[8 rows x 14 columns]"
            ]
          },
          "metadata": {
            "tags": []
          },
          "execution_count": 8
        }
      ]
    },
    {
      "cell_type": "code",
      "metadata": {
        "colab": {
          "base_uri": "https://localhost:8080/"
        },
        "id": "LRqOXw8Q1O7O",
        "outputId": "34e9fd0e-da74-40c4-c434-0187b5041673"
      },
      "source": [
        "# Print names of coumns present in dataset\n",
        "for col in Data1.columns:\n",
        "  print(col)"
      ],
      "execution_count": 9,
      "outputs": [
        {
          "output_type": "stream",
          "text": [
            "id\n",
            "age\n",
            "height\n",
            "weight\n",
            "ap_hi\n",
            "ap_lo\n",
            "cholesterol\n",
            "gluc\n",
            "smoke\n",
            "alco\n",
            "active\n",
            "cardio\n",
            "female\n",
            "male\n"
          ],
          "name": "stdout"
        }
      ]
    },
    {
      "cell_type": "code",
      "metadata": {
        "colab": {
          "base_uri": "https://localhost:8080/"
        },
        "id": "bS_vTIcl1q9w",
        "outputId": "200b742f-5ee4-4347-ca41-6eab6c52859a"
      },
      "source": [
        "# Check NAN values\n",
        "Data1.isnull().sum()"
      ],
      "execution_count": 10,
      "outputs": [
        {
          "output_type": "execute_result",
          "data": {
            "text/plain": [
              "id             0\n",
              "age            0\n",
              "height         0\n",
              "weight         0\n",
              "ap_hi          0\n",
              "ap_lo          0\n",
              "cholesterol    0\n",
              "gluc           0\n",
              "smoke          0\n",
              "alco           0\n",
              "active         0\n",
              "cardio         0\n",
              "female         0\n",
              "male           0\n",
              "dtype: int64"
            ]
          },
          "metadata": {
            "tags": []
          },
          "execution_count": 10
        }
      ]
    },
    {
      "cell_type": "code",
      "metadata": {
        "colab": {
          "base_uri": "https://localhost:8080/"
        },
        "id": "qzoDA-n_1wYD",
        "outputId": "41582550-b32f-4d71-9dbc-913877a667b1"
      },
      "source": [
        "# Check data types of columns\n",
        "Data1.dtypes"
      ],
      "execution_count": 11,
      "outputs": [
        {
          "output_type": "execute_result",
          "data": {
            "text/plain": [
              "id               int64\n",
              "age              int64\n",
              "height           int64\n",
              "weight         float64\n",
              "ap_hi            int64\n",
              "ap_lo            int64\n",
              "cholesterol      int64\n",
              "gluc             int64\n",
              "smoke            int64\n",
              "alco             int64\n",
              "active           int64\n",
              "cardio           int64\n",
              "female           uint8\n",
              "male             uint8\n",
              "dtype: object"
            ]
          },
          "metadata": {
            "tags": []
          },
          "execution_count": 11
        }
      ]
    },
    {
      "cell_type": "code",
      "metadata": {
        "colab": {
          "base_uri": "https://localhost:8080/"
        },
        "id": "I-5ox1252OXK",
        "outputId": "f7ef921c-9d7b-4810-b7c5-93f0cd01cb30"
      },
      "source": [
        "# check variance of columns\n",
        "Data1.var()"
      ],
      "execution_count": 12,
      "outputs": [
        {
          "output_type": "execute_result",
          "data": {
            "text/plain": [
              "id             8.323976e+08\n",
              "age            6.087331e+06\n",
              "height         6.740617e+01\n",
              "weight         2.072378e+02\n",
              "ap_hi          2.371952e+04\n",
              "ap_lo          3.552189e+04\n",
              "cholesterol    4.627405e-01\n",
              "gluc           3.274933e-01\n",
              "smoke          8.036307e-02\n",
              "alco           5.088079e-02\n",
              "active         1.577512e-01\n",
              "cardio         2.500035e-01\n",
              "female         2.273745e-01\n",
              "male           2.273745e-01\n",
              "dtype: float64"
            ]
          },
          "metadata": {
            "tags": []
          },
          "execution_count": 12
        }
      ]
    },
    {
      "cell_type": "code",
      "metadata": {
        "id": "78WVaejc3gkb"
      },
      "source": [
        "# Change datatype of columns into int\n",
        "Data1['weight'] = Data1['weight'].astype(int)\n",
        "Data1['female'] = Data1['female'].astype(int)\n",
        "Data1['male'] = Data1['male'].astype(int)"
      ],
      "execution_count": 13,
      "outputs": []
    },
    {
      "cell_type": "code",
      "metadata": {
        "colab": {
          "base_uri": "https://localhost:8080/"
        },
        "id": "vNSD0-gk4uoH",
        "outputId": "8acbeb57-9484-455d-c3f3-c1eebcc1ca87"
      },
      "source": [
        "# Again check data types of columns\n",
        "Data1.dtypes"
      ],
      "execution_count": 14,
      "outputs": [
        {
          "output_type": "execute_result",
          "data": {
            "text/plain": [
              "id             int64\n",
              "age            int64\n",
              "height         int64\n",
              "weight         int64\n",
              "ap_hi          int64\n",
              "ap_lo          int64\n",
              "cholesterol    int64\n",
              "gluc           int64\n",
              "smoke          int64\n",
              "alco           int64\n",
              "active         int64\n",
              "cardio         int64\n",
              "female         int64\n",
              "male           int64\n",
              "dtype: object"
            ]
          },
          "metadata": {
            "tags": []
          },
          "execution_count": 14
        }
      ]
    },
    {
      "cell_type": "code",
      "metadata": {
        "id": "86d5RrUmG1mV"
      },
      "source": [
        "# Change Age from days to year\n",
        "Data1['Age'] = (Data1['age']/365).round(decimals=2)"
      ],
      "execution_count": 15,
      "outputs": []
    },
    {
      "cell_type": "code",
      "metadata": {
        "id": "NklDFgJXG7O4"
      },
      "source": [
        "# Drop old column age\n",
        "Data1.drop(['age'],axis=1,inplace=True)"
      ],
      "execution_count": 16,
      "outputs": []
    },
    {
      "cell_type": "code",
      "metadata": {
        "id": "rM5S-bi0HGqv"
      },
      "source": [
        "# Change datatype of Age column from float integer\n",
        "Data1['Age']=Data1['Age'].astype(int)"
      ],
      "execution_count": 17,
      "outputs": []
    },
    {
      "cell_type": "code",
      "metadata": {
        "colab": {
          "base_uri": "https://localhost:8080/",
          "height": 202
        },
        "id": "uK6IgZC34yn0",
        "outputId": "0bb33def-8575-4b5d-c204-2e688338d97d"
      },
      "source": [
        "# Print first five line of our dataset\n",
        "Data1.head()"
      ],
      "execution_count": 18,
      "outputs": [
        {
          "output_type": "execute_result",
          "data": {
            "text/html": [
              "<div>\n",
              "<style scoped>\n",
              "    .dataframe tbody tr th:only-of-type {\n",
              "        vertical-align: middle;\n",
              "    }\n",
              "\n",
              "    .dataframe tbody tr th {\n",
              "        vertical-align: top;\n",
              "    }\n",
              "\n",
              "    .dataframe thead th {\n",
              "        text-align: right;\n",
              "    }\n",
              "</style>\n",
              "<table border=\"1\" class=\"dataframe\">\n",
              "  <thead>\n",
              "    <tr style=\"text-align: right;\">\n",
              "      <th></th>\n",
              "      <th>id</th>\n",
              "      <th>height</th>\n",
              "      <th>weight</th>\n",
              "      <th>ap_hi</th>\n",
              "      <th>ap_lo</th>\n",
              "      <th>cholesterol</th>\n",
              "      <th>gluc</th>\n",
              "      <th>smoke</th>\n",
              "      <th>alco</th>\n",
              "      <th>active</th>\n",
              "      <th>cardio</th>\n",
              "      <th>female</th>\n",
              "      <th>male</th>\n",
              "      <th>Age</th>\n",
              "    </tr>\n",
              "  </thead>\n",
              "  <tbody>\n",
              "    <tr>\n",
              "      <th>0</th>\n",
              "      <td>0</td>\n",
              "      <td>168</td>\n",
              "      <td>62</td>\n",
              "      <td>110</td>\n",
              "      <td>80</td>\n",
              "      <td>1</td>\n",
              "      <td>1</td>\n",
              "      <td>0</td>\n",
              "      <td>0</td>\n",
              "      <td>1</td>\n",
              "      <td>0</td>\n",
              "      <td>0</td>\n",
              "      <td>1</td>\n",
              "      <td>50</td>\n",
              "    </tr>\n",
              "    <tr>\n",
              "      <th>1</th>\n",
              "      <td>1</td>\n",
              "      <td>156</td>\n",
              "      <td>85</td>\n",
              "      <td>140</td>\n",
              "      <td>90</td>\n",
              "      <td>3</td>\n",
              "      <td>1</td>\n",
              "      <td>0</td>\n",
              "      <td>0</td>\n",
              "      <td>1</td>\n",
              "      <td>1</td>\n",
              "      <td>1</td>\n",
              "      <td>0</td>\n",
              "      <td>55</td>\n",
              "    </tr>\n",
              "    <tr>\n",
              "      <th>2</th>\n",
              "      <td>2</td>\n",
              "      <td>165</td>\n",
              "      <td>64</td>\n",
              "      <td>130</td>\n",
              "      <td>70</td>\n",
              "      <td>3</td>\n",
              "      <td>1</td>\n",
              "      <td>0</td>\n",
              "      <td>0</td>\n",
              "      <td>0</td>\n",
              "      <td>1</td>\n",
              "      <td>1</td>\n",
              "      <td>0</td>\n",
              "      <td>51</td>\n",
              "    </tr>\n",
              "    <tr>\n",
              "      <th>3</th>\n",
              "      <td>3</td>\n",
              "      <td>169</td>\n",
              "      <td>82</td>\n",
              "      <td>150</td>\n",
              "      <td>100</td>\n",
              "      <td>1</td>\n",
              "      <td>1</td>\n",
              "      <td>0</td>\n",
              "      <td>0</td>\n",
              "      <td>1</td>\n",
              "      <td>1</td>\n",
              "      <td>0</td>\n",
              "      <td>1</td>\n",
              "      <td>48</td>\n",
              "    </tr>\n",
              "    <tr>\n",
              "      <th>4</th>\n",
              "      <td>4</td>\n",
              "      <td>156</td>\n",
              "      <td>56</td>\n",
              "      <td>100</td>\n",
              "      <td>60</td>\n",
              "      <td>1</td>\n",
              "      <td>1</td>\n",
              "      <td>0</td>\n",
              "      <td>0</td>\n",
              "      <td>0</td>\n",
              "      <td>0</td>\n",
              "      <td>1</td>\n",
              "      <td>0</td>\n",
              "      <td>47</td>\n",
              "    </tr>\n",
              "  </tbody>\n",
              "</table>\n",
              "</div>"
            ],
            "text/plain": [
              "   id  height  weight  ap_hi  ap_lo  ...  active  cardio  female  male  Age\n",
              "0   0     168      62    110     80  ...       1       0       0     1   50\n",
              "1   1     156      85    140     90  ...       1       1       1     0   55\n",
              "2   2     165      64    130     70  ...       0       1       1     0   51\n",
              "3   3     169      82    150    100  ...       1       1       0     1   48\n",
              "4   4     156      56    100     60  ...       0       0       1     0   47\n",
              "\n",
              "[5 rows x 14 columns]"
            ]
          },
          "metadata": {
            "tags": []
          },
          "execution_count": 18
        }
      ]
    },
    {
      "cell_type": "code",
      "metadata": {
        "colab": {
          "base_uri": "https://localhost:8080/",
          "height": 497
        },
        "id": "rPmOBSqG7czF",
        "outputId": "cfc60fe8-be85-4280-ceb8-ef81ef0e9e7c"
      },
      "source": [
        "# Plot scatter plot between two columns\n",
        "fig, ax = plt.subplots(figsize=(16,8))\n",
        "ax.scatter(Data1['cardio'], Data1['height'])\n",
        "ax.set_xlabel('cardio')\n",
        "ax.set_ylabel('height')\n",
        "plt.show()"
      ],
      "execution_count": 19,
      "outputs": [
        {
          "output_type": "display_data",
          "data": {
            "image/png": "[encoded data removed]",
            "text/plain": [
              "<Figure size 1152x576 with 1 Axes>"
            ]
          },
          "metadata": {
            "tags": [],
            "needs_background": "light"
          }
        }
      ]
    },
    {
      "cell_type": "code",
      "metadata": {
        "colab": {
          "base_uri": "https://localhost:8080/",
          "height": 497
        },
        "id": "jRg0zUg3_HAY",
        "outputId": "0dec697c-c2eb-4b0e-9dc8-79ecde023478"
      },
      "source": [
        "# Plot scatter plot between two columns\n",
        "fig, ax = plt.subplots(figsize=(16,8))\n",
        "ax.scatter(Data1['cardio'], Data1['weight'])\n",
        "ax.set_xlabel('cardio')\n",
        "ax.set_ylabel('weight')\n",
        "plt.show()"
      ],
      "execution_count": 20,
      "outputs": [
        {
          "output_type": "display_data",
          "data": {
            "image/png": "[encoded data removed]",
            "text/plain": [
              "<Figure size 1152x576 with 1 Axes>"
            ]
          },
          "metadata": {
            "tags": [],
            "needs_background": "light"
          }
        }
      ]
    },
    {
      "cell_type": "code",
      "metadata": {
        "colab": {
          "base_uri": "https://localhost:8080/",
          "height": 497
        },
        "id": "PS1bqf2gGHOm",
        "outputId": "21a04287-dde5-4e10-a920-fbc0006d9be7"
      },
      "source": [
        "# Plot scatter plot between two columns\n",
        "fig, ax = plt.subplots(figsize=(16,8))\n",
        "ax.scatter(Data1['cardio'], Data1['ap_hi'])\n",
        "ax.set_xlabel('cardio')\n",
        "ax.set_ylabel('ap_hi')\n",
        "plt.show()"
      ],
      "execution_count": 21,
      "outputs": [
        {
          "output_type": "display_data",
          "data": {
            "image/png": "[encoded data removed]",
            "text/plain": [
              "<Figure size 1152x576 with 1 Axes>"
            ]
          },
          "metadata": {
            "tags": [],
            "needs_background": "light"
          }
        }
      ]
    },
    {
      "cell_type": "code",
      "metadata": {
        "colab": {
          "base_uri": "https://localhost:8080/",
          "height": 497
        },
        "id": "Vp-_5aWbG2li",
        "outputId": "62b8e369-552f-4eda-a0a9-70973e5c09e6"
      },
      "source": [
        "# Plot scatter plot between two columns\n",
        "fig, ax = plt.subplots(figsize=(16,8))\n",
        "ax.scatter(Data1['cardio'], Data1['ap_lo'])\n",
        "ax.set_xlabel('cardio')\n",
        "ax.set_ylabel('ap_lo')\n",
        "plt.show()"
      ],
      "execution_count": 22,
      "outputs": [
        {
          "output_type": "display_data",
          "data": {
            "image/png": "[encoded data removed]",
            "text/plain": [
              "<Figure size 1152x576 with 1 Axes>"
            ]
          },
          "metadata": {
            "tags": [],
            "needs_background": "light"
          }
        }
      ]
    },
    {
      "cell_type": "code",
      "metadata": {
        "colab": {
          "base_uri": "https://localhost:8080/",
          "height": 497
        },
        "id": "jtZylRObJyHQ",
        "outputId": "c9d0fbfd-603f-4947-ab68-ee997b1a19af"
      },
      "source": [
        "# Plot scatter plot between two columns\n",
        "fig, ax = plt.subplots(figsize=(16,8))\n",
        "ax.scatter(Data1['cardio'], Data1['Age'])\n",
        "ax.set_xlabel('cardio')\n",
        "ax.set_ylabel('Age')\n",
        "plt.show()"
      ],
      "execution_count": 23,
      "outputs": [
        {
          "output_type": "display_data",
          "data": {
            "image/png": "[encoded data removed]",
            "text/plain": [
              "<Figure size 1152x576 with 1 Axes>"
            ]
          },
          "metadata": {
            "tags": [],
            "needs_background": "light"
          }
        }
      ]
    },
    {
      "cell_type": "code",
      "metadata": {
        "colab": {
          "base_uri": "https://localhost:8080/",
          "height": 297
        },
        "id": "zW6TNEZbHijU",
        "outputId": "219adeb6-a2ee-42d2-cfd8-a601b02eebd6"
      },
      "source": [
        "# Plot boxplot to check outliers\n",
        "sns.boxplot(x=Data1[\"cardio\"],y=Data1['height'])"
      ],
      "execution_count": 24,
      "outputs": [
        {
          "output_type": "execute_result",
          "data": {
            "text/plain": [
              "<matplotlib.axes._subplots.AxesSubplot at 0x7f41cb17ed90>"
            ]
          },
          "metadata": {
            "tags": []
          },
          "execution_count": 24
        },
        {
          "output_type": "display_data",
          "data": {
            "image/png": "[encoded data removed]",
            "text/plain": [
              "<Figure size 432x288 with 1 Axes>"
            ]
          },
          "metadata": {
            "tags": [],
            "needs_background": "light"
          }
        }
      ]
    },
    {
      "cell_type": "code",
      "metadata": {
        "colab": {
          "base_uri": "https://localhost:8080/",
          "height": 297
        },
        "id": "1Xy2U7xELKQx",
        "outputId": "76c8ee6d-3ee9-417b-b06f-7d3d3848f21e"
      },
      "source": [
        "#Plot boxplot to check outliers\n",
        "sns.boxplot(x=Data1[\"cardio\"],y=Data1['weight'])"
      ],
      "execution_count": 25,
      "outputs": [
        {
          "output_type": "execute_result",
          "data": {
            "text/plain": [
              "<matplotlib.axes._subplots.AxesSubplot at 0x7f41cb104bd0>"
            ]
          },
          "metadata": {
            "tags": []
          },
          "execution_count": 25
        },
        {
          "output_type": "display_data",
          "data": {
            "image/png": "[encoded data removed]",
            "text/plain": [
              "<Figure size 432x288 with 1 Axes>"
            ]
          },
          "metadata": {
            "tags": [],
            "needs_background": "light"
          }
        }
      ]
    },
    {
      "cell_type": "code",
      "metadata": {
        "colab": {
          "base_uri": "https://localhost:8080/",
          "height": 297
        },
        "id": "9NBTkBRWLS4-",
        "outputId": "eedb6b82-bc4b-4933-bf23-97d2d11bdf4d"
      },
      "source": [
        "#Plot boxplot to check outliers\n",
        "sns.boxplot(x=Data1[\"cardio\"],y=Data1['ap_hi'])"
      ],
      "execution_count": 26,
      "outputs": [
        {
          "output_type": "execute_result",
          "data": {
            "text/plain": [
              "<matplotlib.axes._subplots.AxesSubplot at 0x7f41cb0903d0>"
            ]
          },
          "metadata": {
            "tags": []
          },
          "execution_count": 26
        },
        {
          "output_type": "display_data",
          "data": {
            "image/png": "[encoded data removed]",
            "text/plain": [
              "<Figure size 432x288 with 1 Axes>"
            ]
          },
          "metadata": {
            "tags": [],
            "needs_background": "light"
          }
        }
      ]
    },
    {
      "cell_type": "code",
      "metadata": {
        "colab": {
          "base_uri": "https://localhost:8080/",
          "height": 297
        },
        "id": "bq59npb8LfOD",
        "outputId": "af64e9b6-a2a7-4343-f93b-b7665e119b94"
      },
      "source": [
        "#Plot boxplot to check outliers\n",
        "sns.boxplot(x=Data1[\"cardio\"],y=Data1['ap_lo'])"
      ],
      "execution_count": null,
      "outputs": [
        {
          "output_type": "execute_result",
          "data": {
            "text/plain": [
              "<matplotlib.axes._subplots.AxesSubplot at 0x7fd56b138590>"
            ]
          },
          "metadata": {
            "tags": []
          },
          "execution_count": 29
        },
        {
          "output_type": "display_data",
          "data": {
            "image/png": "[encoded data removed]",
            "text/plain": [
              "<Figure size 432x288 with 1 Axes>"
            ]
          },
          "metadata": {
            "tags": []
          }
        }
      ]
    },
    {
      "cell_type": "code",
      "metadata": {
        "colab": {
          "base_uri": "https://localhost:8080/",
          "height": 297
        },
        "id": "BTZXmQGHLnWQ",
        "outputId": "6acf0d33-aaac-48ae-8742-be1a7739c3f0"
      },
      "source": [
        "#Plot boxplot to check outliers\n",
        "sns.boxplot(x=Data1[\"cardio\"],y=Data1['Age'])"
      ],
      "execution_count": 27,
      "outputs": [
        {
          "output_type": "execute_result",
          "data": {
            "text/plain": [
              "<matplotlib.axes._subplots.AxesSubplot at 0x7f41cb1fc690>"
            ]
          },
          "metadata": {
            "tags": []
          },
          "execution_count": 27
        },
        {
          "output_type": "display_data",
          "data": {
            "image/png": "[encoded data removed]",
            "text/plain": [
              "<Figure size 432x288 with 1 Axes>"
            ]
          },
          "metadata": {
            "tags": [],
            "needs_background": "light"
          }
        }
      ]
    },
    {
      "cell_type": "markdown",
      "metadata": {
        "id": "F6-zOBSMFXq_"
      },
      "source": [
        "# Important Insights"
      ]
    },
    {
      "cell_type": "code",
      "metadata": {
        "colab": {
          "base_uri": "https://localhost:8080/"
        },
        "id": "eY89pJjTNu1F",
        "outputId": "431d4d8e-44d5-4878-aaf9-831ebb590d54"
      },
      "source": [
        "# Print number of person having disease cardiovascular.\n",
        "Data1[\"cardio\"].value_counts()"
      ],
      "execution_count": 28,
      "outputs": [
        {
          "output_type": "execute_result",
          "data": {
            "text/plain": [
              "0    35021\n",
              "1    34979\n",
              "Name: cardio, dtype: int64"
            ]
          },
          "metadata": {
            "tags": []
          },
          "execution_count": 28
        }
      ]
    },
    {
      "cell_type": "markdown",
      "metadata": {
        "id": "eqjsx9vt7czu"
      },
      "source": [
        "0 repersents that person is not having cardio, 1 repersents that person is not having cardio\n",
        "*  35021 are not having disease\n",
        "*  34979 are having disease"
      ]
    },
    {
      "cell_type": "code",
      "metadata": {
        "colab": {
          "base_uri": "https://localhost:8080/"
        },
        "id": "Qti5nbVGOYWg",
        "outputId": "9cc4050e-a37f-43e5-9c25-728146a8bef2"
      },
      "source": [
        "print(\"Total female\",Data1[\"female\"].value_counts())\n",
        "print(\"Total male\",Data1[\"male\"].value_counts())"
      ],
      "execution_count": 29,
      "outputs": [
        {
          "output_type": "stream",
          "text": [
            "Total female 1    45530\n",
            "0    24470\n",
            "Name: female, dtype: int64\n",
            "Total male 0    45530\n",
            "1    24470\n",
            "Name: male, dtype: int64\n"
          ],
          "name": "stdout"
        }
      ]
    },
    {
      "cell_type": "markdown",
      "metadata": {
        "id": "8Qk_BZ0i8TdM"
      },
      "source": [
        "45530 are female and 24470 are male"
      ]
    },
    {
      "cell_type": "code",
      "metadata": {
        "colab": {
          "base_uri": "https://localhost:8080/"
        },
        "id": "q2b4ttVdO0kV",
        "outputId": "b20b153b-c53b-4e8c-fc9b-9473105ca403"
      },
      "source": [
        "females_without_cardiovascular=np.logical_and(Data1['female']==1,Data1['cardio']==0).sum()\n",
        "print(\"females not having cardiovascular disease = \",females_without_cardiovascular)\n",
        "females_with_cardiovascular=np.logical_and(Data1['female']==1,Data1['cardio']==1).sum()\n",
        "print(\"females having cardiovascular disease = \",females_with_cardiovascular)\n",
        "males_without_cardiovascular=np.logical_and(Data1['male']==1,Data1['cardio']==0).sum()\n",
        "print(\"Males not having cardiovascular disease = \",males_without_cardiovascular)\n",
        "males_with_cardiovascular=np.logical_and(Data1['male']==1,Data1['cardio']==1).sum()\n",
        "print(\"Males having cardiovascular disease = \",males_with_cardiovascular)"
      ],
      "execution_count": 30,
      "outputs": [
        {
          "output_type": "stream",
          "text": [
            "females not having cardiovascular disease =  22914\n",
            "females having cardiovascular disease =  22616\n",
            "Males not having cardiovascular disease =  12107\n",
            "Males having cardiovascular disease =  12363\n"
          ],
          "name": "stdout"
        }
      ]
    },
    {
      "cell_type": "code",
      "metadata": {
        "colab": {
          "base_uri": "https://localhost:8080/"
        },
        "id": "b0WBWpehPdbY",
        "outputId": "60f0f6fa-4899-404d-e238-cc2df9f36f61"
      },
      "source": [
        "print(\"Number of people who smoke = \",Data1[Data1['smoke']==1].shape[0])\n",
        "print(\"Number of people who don't smoke = \",Data1[Data1['smoke']==0].shape[0])"
      ],
      "execution_count": 31,
      "outputs": [
        {
          "output_type": "stream",
          "text": [
            "Number of people who smoke =  6169\n",
            "Number of people who don't smoke =  63831\n"
          ],
          "name": "stdout"
        }
      ]
    },
    {
      "cell_type": "code",
      "metadata": {
        "colab": {
          "base_uri": "https://localhost:8080/"
        },
        "id": "mg4wgOIFS-ad",
        "outputId": "05c1f1c2-fd78-4519-e95d-5e7307bb148c"
      },
      "source": [
        "Smokers_without_cardiovascular=np.logical_and(Data1['smoke']==1,Data1['cardio']==0).sum()\n",
        "print(\"Smokers not having cardiovascular disease = \",Smokers_without_cardiovascular)\n",
        "Smokers_with_cardiovascular=np.logical_and(Data1['smoke']==1,Data1['cardio']==1).sum()\n",
        "print(\"Smokers having cardiovascular disease = \",Smokers_with_cardiovascular)\n",
        "Non_Smokers_without_cardiovascular=np.logical_and(Data1['smoke']==0,Data1['cardio']==0).sum()\n",
        "print(\"Non_Smokers not having cardiovascular disease = \",Non_Smokers_without_cardiovascular)\n",
        "Non_Smokers_with_cardiovascular=np.logical_and(Data1['smoke']==0,Data1['cardio']==1).sum()\n",
        "print(\"Non_Smokers having cardiovascular disease = \",Non_Smokers_with_cardiovascular)"
      ],
      "execution_count": 32,
      "outputs": [
        {
          "output_type": "stream",
          "text": [
            "Smokers not having cardiovascular disease =  3240\n",
            "Smokers having cardiovascular disease =  2929\n",
            "Non_Smokers not having cardiovascular disease =  31781\n",
            "Non_Smokers having cardiovascular disease =  32050\n"
          ],
          "name": "stdout"
        }
      ]
    },
    {
      "cell_type": "code",
      "metadata": {
        "colab": {
          "base_uri": "https://localhost:8080/"
        },
        "id": "DkVyWxP8ULjC",
        "outputId": "21fc093c-ff20-400c-80b4-9d5c1d6ebb3e"
      },
      "source": [
        "print(\"Number of people who consume alcohol = \",Data1[Data1['alco']==1].shape[0])\n",
        "print(\"Number of people who don't consume alcohol = \",Data1[Data1['alco']==0].shape[0])"
      ],
      "execution_count": 33,
      "outputs": [
        {
          "output_type": "stream",
          "text": [
            "Number of people who consume alcohol =  3764\n",
            "Number of people who don't consume alcohol =  66236\n"
          ],
          "name": "stdout"
        }
      ]
    },
    {
      "cell_type": "code",
      "metadata": {
        "colab": {
          "base_uri": "https://localhost:8080/"
        },
        "id": "ch86i97SUYEJ",
        "outputId": "4b762da5-cc43-4f82-f977-e400ad0213bf"
      },
      "source": [
        "ac_without_cardiovascular=np.logical_and(Data1['alco']==1,Data1['cardio']==0).sum()\n",
        "print(\"Alcohol consumer not having cardiovascular disease = \",ac_without_cardiovascular)\n",
        "ac_with_cardiovascular=np.logical_and(Data1['alco']==1,Data1['cardio']==1).sum()\n",
        "print(\"Alcohol consumer having cardiovascular disease = \",ac_with_cardiovascular)\n",
        "nac_without_cardiovascular=np.logical_and(Data1['alco']==0,Data1['cardio']==0).sum()\n",
        "print(\"Non alcohol consumer not having cardiovascular disease = \",nac_without_cardiovascular)\n",
        "nac_with_cardiovascular=np.logical_and(Data1['alco']==0,Data1['cardio']==1).sum()\n",
        "print(\"Non alcohol consumer having cardiovascular disease = \",nac_with_cardiovascular)"
      ],
      "execution_count": 34,
      "outputs": [
        {
          "output_type": "stream",
          "text": [
            "Alcohol consumer not having cardiovascular disease =  1941\n",
            "Alcohol consumer having cardiovascular disease =  1823\n",
            "Non alcohol consumer not having cardiovascular disease =  33080\n",
            "Non alcohol consumer having cardiovascular disease =  33156\n"
          ],
          "name": "stdout"
        }
      ]
    },
    {
      "cell_type": "markdown",
      "metadata": {
        "id": "Vr8gZYEZViP8"
      },
      "source": [
        "![download.png](data:image/png;base64,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)"
      ]
    },
    {
      "cell_type": "code",
      "metadata": {
        "colab": {
          "base_uri": "https://localhost:8080/"
        },
        "id": "FEXNvRhKUvvt",
        "outputId": "7a4d66fd-f920-442d-f373-8998d1acdc9f"
      },
      "source": [
        "print(\"Diastilic pressure is higher than systolic one in {0} cases\".format(Data1[Data1['ap_lo']> Data1['ap_hi']].shape[0]))"
      ],
      "execution_count": 35,
      "outputs": [
        {
          "output_type": "stream",
          "text": [
            "Diastilic pressure is higher than systolic one in 1234 cases\n"
          ],
          "name": "stdout"
        }
      ]
    },
    {
      "cell_type": "code",
      "metadata": {
        "id": "AsR6NWe0V3Vd"
      },
      "source": [
        "Data1.drop(Data1[Data1['ap_lo']>Data1['ap_hi']].index,inplace=True)"
      ],
      "execution_count": 36,
      "outputs": []
    },
    {
      "cell_type": "code",
      "metadata": {
        "colab": {
          "base_uri": "https://localhost:8080/"
        },
        "id": "tYEmXxp-V9sB",
        "outputId": "571c79b7-05fa-4dae-a814-cb36a744d786"
      },
      "source": [
        "Data1.shape"
      ],
      "execution_count": 37,
      "outputs": [
        {
          "output_type": "execute_result",
          "data": {
            "text/plain": [
              "(68766, 14)"
            ]
          },
          "metadata": {
            "tags": []
          },
          "execution_count": 37
        }
      ]
    },
    {
      "cell_type": "code",
      "metadata": {
        "colab": {
          "base_uri": "https://localhost:8080/",
          "height": 640
        },
        "id": "g42zWFdvQnFi",
        "outputId": "73959c27-0474-4cd1-9837-5de1d78afe29"
      },
      "source": [
        "# plot correlation map\n",
        "plt.figure(figsize=(12,10))\n",
        "corrMatrix=Data1.corr()\n",
        "sns.heatmap(corrMatrix,annot=True)\n",
        "plt.show()"
      ],
      "execution_count": 38,
      "outputs": [
        {
          "output_type": "display_data",
          "data": {
            "image/png": "[encoded data removed]",
            "text/plain": [
              "<Figure size 864x720 with 2 Axes>"
            ]
          },
          "metadata": {
            "tags": [],
            "needs_background": "light"
          }
        }
      ]
    },
    {
      "cell_type": "markdown",
      "metadata": {
        "id": "XbE1suyHFdz5"
      },
      "source": [
        "# Building Classification Models"
      ]
    },
    {
      "cell_type": "code",
      "metadata": {
        "id": "TaT0p7RgED84"
      },
      "source": [
        "# Divide dataset into label and values\n",
        "x = Data1.iloc[:, [1,2,3,4,5,6,7,8,9,11,12,13]]\n",
        "y =  Data1.iloc[:,-4].values"
      ],
      "execution_count": 39,
      "outputs": []
    },
    {
      "cell_type": "code",
      "metadata": {
        "id": "a5Wn3HVdTvo4"
      },
      "source": [
        "# Apply MinMaxScaler on labels and values\n",
        "min_max_scaler = preprocessing.MinMaxScaler(feature_range =(0, 1))\n",
        "# Scaled feature\n",
        "x = min_max_scaler.fit_transform(x)"
      ],
      "execution_count": 40,
      "outputs": []
    },
    {
      "cell_type": "code",
      "metadata": {
        "id": "ZHjNcdJLQ6SA"
      },
      "source": [
        "# Split Dataset into train and test \n",
        "from sklearn.model_selection import train_test_split\n",
        "x_train,x_test,y_train,y_test=train_test_split(x,y,test_size= 0.4, random_state = 0)"
      ],
      "execution_count": 41,
      "outputs": []
    },
    {
      "cell_type": "code",
      "metadata": {
        "colab": {
          "base_uri": "https://localhost:8080/"
        },
        "id": "XDBOqVSKRVMe",
        "outputId": "1a409e55-3ce4-475c-cf70-9343acdc434e"
      },
      "source": [
        "print(x_train)\n",
        "print(y_train)"
      ],
      "execution_count": 42,
      "outputs": [
        {
          "output_type": "stream",
          "text": [
            "[[0.6        0.38095238 0.00737131 ... 0.         1.         0.6       ]\n",
            " [0.62051282 0.28571429 0.00612194 ... 1.         0.         0.34285714]\n",
            " [0.56923077 0.31746032 0.00674663 ... 1.         0.         0.6       ]\n",
            " ...\n",
            " [0.54871795 0.33333333 0.00674663 ... 1.         0.         0.94285714]\n",
            " [0.53333333 0.44973545 0.00612194 ... 1.         0.         0.28571429]\n",
            " [0.58461538 0.29100529 0.00724638 ... 1.         0.         0.48571429]]\n",
            "[1 0 1 ... 1 0 0]\n"
          ],
          "name": "stdout"
        }
      ]
    },
    {
      "cell_type": "code",
      "metadata": {
        "colab": {
          "base_uri": "https://localhost:8080/"
        },
        "id": "Up4HGxBWSa-6",
        "outputId": "32f6b840-c797-407e-de9d-347eb32dce2e"
      },
      "source": [
        "y_train"
      ],
      "execution_count": 43,
      "outputs": [
        {
          "output_type": "execute_result",
          "data": {
            "text/plain": [
              "array([1, 0, 1, ..., 1, 0, 0])"
            ]
          },
          "metadata": {
            "tags": []
          },
          "execution_count": 43
        }
      ]
    },
    {
      "cell_type": "code",
      "metadata": {
        "colab": {
          "base_uri": "https://localhost:8080/"
        },
        "id": "a6PxrGOOSiH7",
        "outputId": "77a9c17e-6b9d-4f65-b4de-1c3d9be38adb"
      },
      "source": [
        "x_train"
      ],
      "execution_count": 44,
      "outputs": [
        {
          "output_type": "execute_result",
          "data": {
            "text/plain": [
              "array([[0.6       , 0.38095238, 0.00737131, ..., 0.        , 1.        ,\n",
              "        0.6       ],\n",
              "       [0.62051282, 0.28571429, 0.00612194, ..., 1.        , 0.        ,\n",
              "        0.34285714],\n",
              "       [0.56923077, 0.31746032, 0.00674663, ..., 1.        , 0.        ,\n",
              "        0.6       ],\n",
              "       ...,\n",
              "       [0.54871795, 0.33333333, 0.00674663, ..., 1.        , 0.        ,\n",
              "        0.94285714],\n",
              "       [0.53333333, 0.44973545, 0.00612194, ..., 1.        , 0.        ,\n",
              "        0.28571429],\n",
              "       [0.58461538, 0.29100529, 0.00724638, ..., 1.        , 0.        ,\n",
              "        0.48571429]])"
            ]
          },
          "metadata": {
            "tags": []
          },
          "execution_count": 44
        }
      ]
    },
    {
      "cell_type": "markdown",
      "metadata": {
        "id": "cl4fzR3a9vUA"
      },
      "source": [
        "# LOGISTIC REGRESSION"
      ]
    },
    {
      "cell_type": "code",
      "metadata": {
        "colab": {
          "base_uri": "https://localhost:8080/"
        },
        "id": "cdND1WLcSm0C",
        "outputId": "b7c728f2-2666-40f3-cec4-d1289232ff6c"
      },
      "source": [
        "from sklearn.linear_model import LogisticRegression\n",
        "lg = LogisticRegression()\n",
        "lg.fit(x_train,y_train)"
      ],
      "execution_count": 45,
      "outputs": [
        {
          "output_type": "execute_result",
          "data": {
            "text/plain": [
              "LogisticRegression(C=1.0, class_weight=None, dual=False, fit_intercept=True,\n",
              "                   intercept_scaling=1, l1_ratio=None, max_iter=100,\n",
              "                   multi_class='auto', n_jobs=None, penalty='l2',\n",
              "                   random_state=None, solver='lbfgs', tol=0.0001, verbose=0,\n",
              "                   warm_start=False)"
            ]
          },
          "metadata": {
            "tags": []
          },
          "execution_count": 45
        }
      ]
    },
    {
      "cell_type": "code",
      "metadata": {
        "colab": {
          "base_uri": "https://localhost:8080/"
        },
        "id": "kaLXD3QHUEXa",
        "outputId": "ccb85715-4d6b-4e40-b53c-0eaa5a6ba969"
      },
      "source": [
        "# Predict\n",
        "lg_pred = lg.predict(x_test)\n",
        "lg_pred"
      ],
      "execution_count": 46,
      "outputs": [
        {
          "output_type": "execute_result",
          "data": {
            "text/plain": [
              "array([0, 0, 1, ..., 0, 1, 0])"
            ]
          },
          "metadata": {
            "tags": []
          },
          "execution_count": 46
        }
      ]
    },
    {
      "cell_type": "code",
      "metadata": {
        "colab": {
          "base_uri": "https://localhost:8080/"
        },
        "id": "AAQGq1a_UNlG",
        "outputId": "2faefd70-f7ff-4315-ab62-ba2bfa5a6de9"
      },
      "source": [
        "# Check Accuracies\n",
        "from sklearn.metrics import confusion_matrix,accuracy_score\n",
        "cm = confusion_matrix(y_test,lg_pred)\n",
        "print(cm)\n",
        "accuracy_score(y_test, lg_pred)\n"
      ],
      "execution_count": 47,
      "outputs": [
        {
          "output_type": "stream",
          "text": [
            "[[10093  3753]\n",
            " [ 4646  9015]]\n"
          ],
          "name": "stdout"
        },
        {
          "output_type": "execute_result",
          "data": {
            "text/plain": [
              "0.6946595412076926"
            ]
          },
          "metadata": {
            "tags": []
          },
          "execution_count": 47
        }
      ]
    },
    {
      "cell_type": "code",
      "metadata": {
        "colab": {
          "base_uri": "https://localhost:8080/"
        },
        "id": "iYXk_dY0UtNu",
        "outputId": "993aade9-f77e-46c0-969f-dabfb103c517"
      },
      "source": [
        "# Calculate score\n",
        "from sklearn.metrics import precision_score\n",
        "from sklearn.metrics import recall_score\n",
        "from sklearn.metrics import accuracy_score\n",
        "from sklearn.metrics import f1_score\n",
        "accuracy = accuracy_score(y_test,lg_pred)\n",
        "precision =  precision_score(y_test,lg_pred,average=\"weighted\")\n",
        "recall = recall_score(y_test,lg_pred,average=\"weighted\")\n",
        "f1 = f1_score(y_test,lg_pred,average=\"weighted\")\n",
        "print(\"Accuracy - {}\".format(accuracy))\n",
        "print(\"Precision - {}\".format(precision))\n",
        "print(\"Recall- {}\".format(recall))\n",
        "print(\"f1 - {}\".format(f1))"
      ],
      "execution_count": 48,
      "outputs": [
        {
          "output_type": "stream",
          "text": [
            "Accuracy - 0.6946595412076926\n",
            "Precision - 0.6953503901498647\n",
            "Recall- 0.6946595412076926\n",
            "f1 - 0.6942704641293113\n"
          ],
          "name": "stdout"
        }
      ]
    },
    {
      "cell_type": "code",
      "metadata": {
        "colab": {
          "base_uri": "https://localhost:8080/",
          "height": 279
        },
        "id": "BpZIw_R2U4yR",
        "outputId": "73de9b07-f280-4db0-9033-3c34a8adf214"
      },
      "source": [
        "# Plot Precision and recall curve\n",
        "from sklearn.metrics import precision_recall_curve\n",
        "from sklearn.metrics import plot_precision_recall_curve\n",
        "disp = plot_precision_recall_curve(lg,x_test,y_test)"
      ],
      "execution_count": 49,
      "outputs": [
        {
          "output_type": "display_data",
          "data": {
            "image/png": "[encoded data removed]",
            "text/plain": [
              "<Figure size 432x288 with 1 Axes>"
            ]
          },
          "metadata": {
            "tags": [],
            "needs_background": "light"
          }
        }
      ]
    },
    {
      "cell_type": "markdown",
      "metadata": {
        "id": "ApIc6JCB-Wk8"
      },
      "source": [
        "# K NEIGHBORS CLASSIFIER"
      ]
    },
    {
      "cell_type": "code",
      "metadata": {
        "colab": {
          "base_uri": "https://localhost:8080/"
        },
        "id": "QJ0k_zV6VL53",
        "outputId": "d747062e-d9f0-4fd4-efdd-a24a62dd89d0"
      },
      "source": [
        "from sklearn.neighbors import KNeighborsClassifier\n",
        "kn=KNeighborsClassifier()\n",
        "kn.fit(x_train,y_train)"
      ],
      "execution_count": 50,
      "outputs": [
        {
          "output_type": "execute_result",
          "data": {
            "text/plain": [
              "KNeighborsClassifier(algorithm='auto', leaf_size=30, metric='minkowski',\n",
              "                     metric_params=None, n_jobs=None, n_neighbors=5, p=2,\n",
              "                     weights='uniform')"
            ]
          },
          "metadata": {
            "tags": []
          },
          "execution_count": 50
        }
      ]
    },
    {
      "cell_type": "code",
      "metadata": {
        "colab": {
          "base_uri": "https://localhost:8080/"
        },
        "id": "YWRd60kQW3Sz",
        "outputId": "70b27d8f-afa2-4bd3-e722-cbb1d4b3fe89"
      },
      "source": [
        "# Predict\n",
        "kn_pred = kn.predict(x_test)\n",
        "kn_pred"
      ],
      "execution_count": 51,
      "outputs": [
        {
          "output_type": "execute_result",
          "data": {
            "text/plain": [
              "array([1, 1, 1, ..., 0, 0, 0])"
            ]
          },
          "metadata": {
            "tags": []
          },
          "execution_count": 51
        }
      ]
    },
    {
      "cell_type": "code",
      "metadata": {
        "colab": {
          "base_uri": "https://localhost:8080/"
        },
        "id": "8np8kx75XIny",
        "outputId": "74312df7-4d82-4daf-f103-a01f6114962c"
      },
      "source": [
        "# accuracy\n",
        "from sklearn.metrics import confusion_matrix,accuracy_score\n",
        "cm = confusion_matrix(y_test,kn_pred)\n",
        "print(cm)\n",
        "accuracy_score(y_test, kn_pred)"
      ],
      "execution_count": 53,
      "outputs": [
        {
          "output_type": "stream",
          "text": [
            "[[9233 4613]\n",
            " [4844 8817]]\n"
          ],
          "name": "stdout"
        },
        {
          "output_type": "execute_result",
          "data": {
            "text/plain": [
              "0.6561966045006725"
            ]
          },
          "metadata": {
            "tags": []
          },
          "execution_count": 53
        }
      ]
    },
    {
      "cell_type": "code",
      "metadata": {
        "colab": {
          "base_uri": "https://localhost:8080/"
        },
        "id": "mtBDfvDr-Qxk",
        "outputId": "8c8a2532-55f1-4045-86af-95465747f05a"
      },
      "source": [
        "# Calculate score\n",
        "accuracy = accuracy_score(y_test,kn_pred)\n",
        "precision =  precision_score(y_test,kn_pred,average=\"weighted\")\n",
        "recall = recall_score(y_test,kn_pred,average=\"weighted\")\n",
        "f1 = f1_score(y_test,kn_pred,average=\"weighted\")\n",
        "print(\"Accuracy - {}\".format(accuracy))\n",
        "print(\"Precision - {}\".format(precision))\n",
        "print(\"Recall- {}\".format(recall))\n",
        "print(\"f1 - {}\".format(f1))"
      ],
      "execution_count": 54,
      "outputs": [
        {
          "output_type": "stream",
          "text": [
            "Accuracy - 0.6561966045006725\n",
            "Precision - 0.6562018336277168\n",
            "Recall- 0.6561966045006725\n",
            "f1 - 0.6561529299586605\n"
          ],
          "name": "stdout"
        }
      ]
    },
    {
      "cell_type": "code",
      "metadata": {
        "colab": {
          "base_uri": "https://localhost:8080/",
          "height": 279
        },
        "id": "vi9Xo4hWQgVh",
        "outputId": "3363137c-fa2a-4619-d21e-d8d0529c76f0"
      },
      "source": [
        "# Plot Precision and Recall curve\n",
        "disp = plot_precision_recall_curve(kn,x_test,y_test)"
      ],
      "execution_count": 55,
      "outputs": [
        {
          "output_type": "display_data",
          "data": {
            "image/png": "[encoded data removed]",
            "text/plain": [
              "<Figure size 432x288 with 1 Axes>"
            ]
          },
          "metadata": {
            "tags": [],
            "needs_background": "light"
          }
        }
      ]
    },
    {
      "cell_type": "markdown",
      "metadata": {
        "id": "ZWpBMXO9-sep"
      },
      "source": [
        "# SVC"
      ]
    },
    {
      "cell_type": "code",
      "metadata": {
        "colab": {
          "base_uri": "https://localhost:8080/"
        },
        "id": "JksmoYXbOwIF",
        "outputId": "a19213e2-6a57-4964-ae26-6f93c4bf902b"
      },
      "source": [
        "from sklearn.svm import SVC\n",
        "sv = SVC(kernel='linear')\n",
        "sv.fit(x_train,y_train)"
      ],
      "execution_count": 56,
      "outputs": [
        {
          "output_type": "execute_result",
          "data": {
            "text/plain": [
              "SVC(C=1.0, break_ties=False, cache_size=200, class_weight=None, coef0=0.0,\n",
              "    decision_function_shape='ovr', degree=3, gamma='scale', kernel='linear',\n",
              "    max_iter=-1, probability=False, random_state=None, shrinking=True,\n",
              "    tol=0.001, verbose=False)"
            ]
          },
          "metadata": {
            "tags": []
          },
          "execution_count": 56
        }
      ]
    },
    {
      "cell_type": "code",
      "metadata": {
        "colab": {
          "base_uri": "https://localhost:8080/"
        },
        "id": "pVIkT0tTPhdM",
        "outputId": "b4e34a41-9e33-480f-f860-28b4b4018d91"
      },
      "source": [
        "#Predict\n",
        "sv_pred = sv.predict(x_test)\n",
        "sv_pred"
      ],
      "execution_count": 57,
      "outputs": [
        {
          "output_type": "execute_result",
          "data": {
            "text/plain": [
              "array([0, 0, 1, ..., 0, 1, 0])"
            ]
          },
          "metadata": {
            "tags": []
          },
          "execution_count": 57
        }
      ]
    },
    {
      "cell_type": "code",
      "metadata": {
        "colab": {
          "base_uri": "https://localhost:8080/"
        },
        "id": "4h_TwJaUPnyB",
        "outputId": "3db66a15-295e-4488-8fb3-c371b2f3a39f"
      },
      "source": [
        "# Calculate Accuracy\n",
        "from sklearn.metrics import confusion_matrix,accuracy_score\n",
        "cm = confusion_matrix(y_test,sv_pred)\n",
        "print(cm)\n",
        "accuracy_score(y_test, sv_pred)"
      ],
      "execution_count": 58,
      "outputs": [
        {
          "output_type": "stream",
          "text": [
            "[[10350  3496]\n",
            " [ 4894  8767]]\n"
          ],
          "name": "stdout"
        },
        {
          "output_type": "execute_result",
          "data": {
            "text/plain": [
              "0.6949867306503799"
            ]
          },
          "metadata": {
            "tags": []
          },
          "execution_count": 58
        }
      ]
    },
    {
      "cell_type": "code",
      "metadata": {
        "colab": {
          "base_uri": "https://localhost:8080/"
        },
        "id": "RP6eBp5d_GUt",
        "outputId": "75ead9a8-8e22-4a1c-d06d-3810660452b7"
      },
      "source": [
        "# Calculate score\n",
        "accuracy = accuracy_score(y_test,sv_pred)\n",
        "precision =  precision_score(y_test,sv_pred,average=\"weighted\")\n",
        "recall = recall_score(y_test,sv_pred,average=\"weighted\")\n",
        "f1 = f1_score(y_test,sv_pred,average=\"weighted\")\n",
        "print(\"Accuracy - {}\".format(accuracy))\n",
        "print(\"Precision - {}\".format(precision))\n",
        "print(\"Recall- {}\".format(recall))\n",
        "print(\"f1 - {}\".format(f1))"
      ],
      "execution_count": 59,
      "outputs": [
        {
          "output_type": "stream",
          "text": [
            "Accuracy - 0.6949867306503799\n",
            "Precision - 0.6968142968414641\n",
            "Recall- 0.6949867306503799\n",
            "f1 - 0.6940916522323513\n"
          ],
          "name": "stdout"
        }
      ]
    },
    {
      "cell_type": "code",
      "metadata": {
        "colab": {
          "base_uri": "https://localhost:8080/",
          "height": 279
        },
        "id": "SB3DMrqwQm0P",
        "outputId": "58166205-e1c5-42f6-d056-1003ce46e0f8"
      },
      "source": [
        "# Plot Precision and recall curve\n",
        "disp = plot_precision_recall_curve(sv,x_test,y_test)"
      ],
      "execution_count": 60,
      "outputs": [
        {
          "output_type": "display_data",
          "data": {
            "image/png": "[encoded data removed]",
            "text/plain": [
              "<Figure size 432x288 with 1 Axes>"
            ]
          },
          "metadata": {
            "tags": [],
            "needs_background": "light"
          }
        }
      ]
    },
    {
      "cell_type": "markdown",
      "metadata": {
        "id": "qTinTJaA_aDW"
      },
      "source": [
        "# SVC (KERNEL=\"RBF\")"
      ]
    },
    {
      "cell_type": "code",
      "metadata": {
        "colab": {
          "base_uri": "https://localhost:8080/"
        },
        "id": "dGTWLyUDQ2t6",
        "outputId": "c54df285-7b35-4a51-b91d-c19ca157a648"
      },
      "source": [
        "from sklearn.svm import SVC\n",
        "kernel = SVC(kernel='rbf')\n",
        "kernel.fit(x_train,y_train)"
      ],
      "execution_count": 61,
      "outputs": [
        {
          "output_type": "execute_result",
          "data": {
            "text/plain": [
              "SVC(C=1.0, break_ties=False, cache_size=200, class_weight=None, coef0=0.0,\n",
              "    decision_function_shape='ovr', degree=3, gamma='scale', kernel='rbf',\n",
              "    max_iter=-1, probability=False, random_state=None, shrinking=True,\n",
              "    tol=0.001, verbose=False)"
            ]
          },
          "metadata": {
            "tags": []
          },
          "execution_count": 61
        }
      ]
    },
    {
      "cell_type": "code",
      "metadata": {
        "colab": {
          "base_uri": "https://localhost:8080/"
        },
        "id": "I7skkKiqRs91",
        "outputId": "9cb5c0cd-af35-46df-ea3b-0afe822ba1e5"
      },
      "source": [
        "# Predict\n",
        "kernel_pred = kernel.predict(x_test)\n",
        "kernel_pred"
      ],
      "execution_count": 62,
      "outputs": [
        {
          "output_type": "execute_result",
          "data": {
            "text/plain": [
              "array([1, 0, 1, ..., 0, 1, 0])"
            ]
          },
          "metadata": {
            "tags": []
          },
          "execution_count": 62
        }
      ]
    },
    {
      "cell_type": "code",
      "metadata": {
        "colab": {
          "base_uri": "https://localhost:8080/"
        },
        "id": "dLB-bc7YR4t5",
        "outputId": "463d1324-178d-457c-d791-fe32e6faf38d"
      },
      "source": [
        "# Calculate Accuracy\n",
        "cm = confusion_matrix(y_test,kernel_pred)\n",
        "print(cm)\n",
        "accuracy_score(y_test, kernel_pred)"
      ],
      "execution_count": 63,
      "outputs": [
        {
          "output_type": "stream",
          "text": [
            "[[9958 3888]\n",
            " [4652 9009]]\n"
          ],
          "name": "stdout"
        },
        {
          "output_type": "execute_result",
          "data": {
            "text/plain": [
              "0.689533573272258"
            ]
          },
          "metadata": {
            "tags": []
          },
          "execution_count": 63
        }
      ]
    },
    {
      "cell_type": "code",
      "metadata": {
        "colab": {
          "base_uri": "https://localhost:8080/"
        },
        "id": "4Giv2w-G_lcZ",
        "outputId": "4c3b608e-3612-47fe-b780-d08b0b05fd4e"
      },
      "source": [
        "# Calculate score\n",
        "accuracy = accuracy_score(y_test,kernel_pred)\n",
        "precision =  precision_score(y_test,kernel_pred,average=\"weighted\")\n",
        "recall = recall_score(y_test,kernel_pred,average=\"weighted\")\n",
        "f1 = f1_score(y_test,kernel_pred,average=\"weighted\")\n",
        "print(\"Accuracy - {}\".format(accuracy))\n",
        "print(\"Precision - {}\".format(precision))\n",
        "print(\"Recall- {}\".format(recall))\n",
        "print(\"f1 - {}\".format(f1))"
      ],
      "execution_count": 64,
      "outputs": [
        {
          "output_type": "stream",
          "text": [
            "Accuracy - 0.689533573272258\n",
            "Precision - 0.6900042605281478\n",
            "Recall- 0.689533573272258\n",
            "f1 - 0.6892357182032391\n"
          ],
          "name": "stdout"
        }
      ]
    },
    {
      "cell_type": "code",
      "metadata": {
        "colab": {
          "base_uri": "https://localhost:8080/",
          "height": 279
        },
        "id": "Isg5mcL1SJv4",
        "outputId": "5fac6e89-6828-4fff-f585-7cc67326ab4c"
      },
      "source": [
        "# Plot Precision and recall curve\n",
        "disp = plot_precision_recall_curve(kernel,x_test,y_test)"
      ],
      "execution_count": 65,
      "outputs": [
        {
          "output_type": "display_data",
          "data": {
            "image/png": "[encoded data removed]",
            "text/plain": [
              "<Figure size 432x288 with 1 Axes>"
            ]
          },
          "metadata": {
            "tags": [],
            "needs_background": "light"
          }
        }
      ]
    },
    {
      "cell_type": "markdown",
      "metadata": {
        "id": "f_1j4HMS_2AO"
      },
      "source": [
        "# GaussianNB"
      ]
    },
    {
      "cell_type": "code",
      "metadata": {
        "colab": {
          "base_uri": "https://localhost:8080/"
        },
        "id": "V5dRkLuGTsDg",
        "outputId": "ee1b1aa9-8107-4553-b5f0-f57069869336"
      },
      "source": [
        "from sklearn.naive_bayes import GaussianNB\n",
        "nb = GaussianNB()\n",
        "nb.fit(x_train, y_train)"
      ],
      "execution_count": 66,
      "outputs": [
        {
          "output_type": "execute_result",
          "data": {
            "text/plain": [
              "GaussianNB(priors=None, var_smoothing=1e-09)"
            ]
          },
          "metadata": {
            "tags": []
          },
          "execution_count": 66
        }
      ]
    },
    {
      "cell_type": "code",
      "metadata": {
        "colab": {
          "base_uri": "https://localhost:8080/"
        },
        "id": "4B4WnwIIT0Gg",
        "outputId": "9becd6de-868b-41ad-91b2-4e44d47befc2"
      },
      "source": [
        "# Predict\n",
        "nb_pred = nb.predict(x_test)\n",
        "nb_pred"
      ],
      "execution_count": 67,
      "outputs": [
        {
          "output_type": "execute_result",
          "data": {
            "text/plain": [
              "array([0, 0, 1, ..., 0, 1, 0])"
            ]
          },
          "metadata": {
            "tags": []
          },
          "execution_count": 67
        }
      ]
    },
    {
      "cell_type": "code",
      "metadata": {
        "colab": {
          "base_uri": "https://localhost:8080/"
        },
        "id": "0F5bdTnmUA1B",
        "outputId": "e85e4335-8439-4222-db9b-710e436560b9"
      },
      "source": [
        "# Calculate Accuracy\n",
        "cm = confusion_matrix(y_test,nb_pred)\n",
        "print(cm)\n",
        "accuracy_score(y_test,nb_pred)"
      ],
      "execution_count": 68,
      "outputs": [
        {
          "output_type": "stream",
          "text": [
            "[[11466  2380]\n",
            " [ 7256  6405]]\n"
          ],
          "name": "stdout"
        },
        {
          "output_type": "execute_result",
          "data": {
            "text/plain": [
              "0.649689170029447"
            ]
          },
          "metadata": {
            "tags": []
          },
          "execution_count": 68
        }
      ]
    },
    {
      "cell_type": "code",
      "metadata": {
        "colab": {
          "base_uri": "https://localhost:8080/"
        },
        "id": "sVs2R2t5ADEy",
        "outputId": "b116b70e-3dd2-403d-fd65-fffa42591aae"
      },
      "source": [
        "# Calculate score\n",
        "accuracy = accuracy_score(y_test,nb_pred)\n",
        "precision =  precision_score(y_test,nb_pred,average=\"weighted\")\n",
        "recall = recall_score(y_test,nb_pred,average=\"weighted\")\n",
        "f1 = f1_score(y_test,nb_pred,average=\"weighted\")\n",
        "print(\"Accuracy - {}\".format(accuracy))\n",
        "print(\"Precision - {}\".format(precision))\n",
        "print(\"Recall- {}\".format(recall))\n",
        "print(\"f1 - {}\".format(f1))"
      ],
      "execution_count": 69,
      "outputs": [
        {
          "output_type": "stream",
          "text": [
            "Accuracy - 0.649689170029447\n",
            "Precision - 0.6703668518544471\n",
            "Recall- 0.649689170029447\n",
            "f1 - 0.637863560084035\n"
          ],
          "name": "stdout"
        }
      ]
    },
    {
      "cell_type": "code",
      "metadata": {
        "colab": {
          "base_uri": "https://localhost:8080/",
          "height": 279
        },
        "id": "5N240g__UKbe",
        "outputId": "8c1f975a-ebf2-46f2-df7f-87cd7c2adfcc"
      },
      "source": [
        "# Plot Precision and recall curve\n",
        "disp = plot_precision_recall_curve(nb,x_test,y_test)"
      ],
      "execution_count": 70,
      "outputs": [
        {
          "output_type": "display_data",
          "data": {
            "image/png": "[encoded data removed]",
            "text/plain": [
              "<Figure size 432x288 with 1 Axes>"
            ]
          },
          "metadata": {
            "tags": [],
            "needs_background": "light"
          }
        }
      ]
    },
    {
      "cell_type": "markdown",
      "metadata": {
        "id": "5vtY35I9ARTj"
      },
      "source": [
        "# DECISION TREE CLASSIFIER"
      ]
    },
    {
      "cell_type": "code",
      "metadata": {
        "colab": {
          "base_uri": "https://localhost:8080/"
        },
        "id": "TVFU6tsxUU2A",
        "outputId": "5f99e6b3-6d35-4536-fff6-7b3b2014ea1a"
      },
      "source": [
        "from sklearn.tree import DecisionTreeClassifier\n",
        "dt = DecisionTreeClassifier()\n",
        "dt.fit(x_train, y_train)"
      ],
      "execution_count": 71,
      "outputs": [
        {
          "output_type": "execute_result",
          "data": {
            "text/plain": [
              "DecisionTreeClassifier(ccp_alpha=0.0, class_weight=None, criterion='gini',\n",
              "                       max_depth=None, max_features=None, max_leaf_nodes=None,\n",
              "                       min_impurity_decrease=0.0, min_impurity_split=None,\n",
              "                       min_samples_leaf=1, min_samples_split=2,\n",
              "                       min_weight_fraction_leaf=0.0, presort='deprecated',\n",
              "                       random_state=None, splitter='best')"
            ]
          },
          "metadata": {
            "tags": []
          },
          "execution_count": 71
        }
      ]
    },
    {
      "cell_type": "code",
      "metadata": {
        "colab": {
          "base_uri": "https://localhost:8080/"
        },
        "id": "2HtOuOmdUcvO",
        "outputId": "752e9b0c-2d51-4460-fac3-77e988d769c9"
      },
      "source": [
        "# Predcit\n",
        "dt_pred = dt.predict(x_test)\n",
        "dt_pred"
      ],
      "execution_count": 72,
      "outputs": [
        {
          "output_type": "execute_result",
          "data": {
            "text/plain": [
              "array([1, 1, 1, ..., 0, 1, 1])"
            ]
          },
          "metadata": {
            "tags": []
          },
          "execution_count": 72
        }
      ]
    },
    {
      "cell_type": "code",
      "metadata": {
        "colab": {
          "base_uri": "https://localhost:8080/"
        },
        "id": "XQ68O8MyU3P7",
        "outputId": "28aba2db-8917-4fe5-d52e-fcccaedd1c62"
      },
      "source": [
        "# Accuracy\n",
        "cm = confusion_matrix(y_test,dt_pred)\n",
        "print(cm)\n",
        "accuracy_score(y_test,dt_pred)"
      ],
      "execution_count": 73,
      "outputs": [
        {
          "output_type": "stream",
          "text": [
            "[[8915 4931]\n",
            " [5158 8503]]\n"
          ],
          "name": "stdout"
        },
        {
          "output_type": "execute_result",
          "data": {
            "text/plain": [
              "0.6332206347475188"
            ]
          },
          "metadata": {
            "tags": []
          },
          "execution_count": 73
        }
      ]
    },
    {
      "cell_type": "code",
      "metadata": {
        "colab": {
          "base_uri": "https://localhost:8080/"
        },
        "id": "o0XV2yzrAaj8",
        "outputId": "668c6823-8629-463b-d13f-5028c3d0c3c8"
      },
      "source": [
        "# Calculate score\n",
        "accuracy = accuracy_score(y_test,dt_pred)\n",
        "precision =  precision_score(y_test,dt_pred,average=\"weighted\")\n",
        "recall = recall_score(y_test,dt_pred,average=\"weighted\")\n",
        "f1 = f1_score(y_test,dt_pred,average=\"weighted\")\n",
        "print(\"Accuracy - {}\".format(accuracy))\n",
        "print(\"Precision - {}\".format(precision))\n",
        "print(\"Recall- {}\".format(recall))\n",
        "print(\"f1 - {}\".format(f1))"
      ],
      "execution_count": 74,
      "outputs": [
        {
          "output_type": "stream",
          "text": [
            "Accuracy - 0.6332206347475188\n",
            "Precision - 0.6332162089656573\n",
            "Recall- 0.6332206347475188\n",
            "f1 - 0.6331752887506448\n"
          ],
          "name": "stdout"
        }
      ]
    },
    {
      "cell_type": "code",
      "metadata": {
        "colab": {
          "base_uri": "https://localhost:8080/",
          "height": 279
        },
        "id": "s_uK0TWmVQDZ",
        "outputId": "95782c8f-900c-4557-a75c-7cfae956a26c"
      },
      "source": [
        "# Plot Precision and recall curve\n",
        "disp = plot_precision_recall_curve(dt,x_test,y_test)"
      ],
      "execution_count": 75,
      "outputs": [
        {
          "output_type": "display_data",
          "data": {
            "image/png": "[encoded data removed]",
            "text/plain": [
              "<Figure size 432x288 with 1 Axes>"
            ]
          },
          "metadata": {
            "tags": [],
            "needs_background": "light"
          }
        }
      ]
    },
    {
      "cell_type": "markdown",
      "metadata": {
        "id": "rl0q4OccA3jH"
      },
      "source": [
        "# RANDOM FOREST CLASSIFIER"
      ]
    },
    {
      "cell_type": "code",
      "metadata": {
        "colab": {
          "base_uri": "https://localhost:8080/"
        },
        "id": "a7UHLzdkVXJq",
        "outputId": "5c14836b-6824-4b60-875a-3b42e31767ec"
      },
      "source": [
        "from sklearn.ensemble import RandomForestClassifier\n",
        "rf = RandomForestClassifier()\n",
        "rf.fit(x_train, y_train)"
      ],
      "execution_count": 76,
      "outputs": [
        {
          "output_type": "execute_result",
          "data": {
            "text/plain": [
              "RandomForestClassifier(bootstrap=True, ccp_alpha=0.0, class_weight=None,\n",
              "                       criterion='gini', max_depth=None, max_features='auto',\n",
              "                       max_leaf_nodes=None, max_samples=None,\n",
              "                       min_impurity_decrease=0.0, min_impurity_split=None,\n",
              "                       min_samples_leaf=1, min_samples_split=2,\n",
              "                       min_weight_fraction_leaf=0.0, n_estimators=100,\n",
              "                       n_jobs=None, oob_score=False, random_state=None,\n",
              "                       verbose=0, warm_start=False)"
            ]
          },
          "metadata": {
            "tags": []
          },
          "execution_count": 76
        }
      ]
    },
    {
      "cell_type": "code",
      "metadata": {
        "colab": {
          "base_uri": "https://localhost:8080/"
        },
        "id": "nRdSK1lXVes5",
        "outputId": "80f20f94-f05a-480e-d995-10a345f4e63a"
      },
      "source": [
        "# Predict\n",
        "rf_pred = rf.predict(x_test)\n",
        "rf_pred"
      ],
      "execution_count": 77,
      "outputs": [
        {
          "output_type": "execute_result",
          "data": {
            "text/plain": [
              "array([0, 0, 1, ..., 0, 1, 1])"
            ]
          },
          "metadata": {
            "tags": []
          },
          "execution_count": 77
        }
      ]
    },
    {
      "cell_type": "code",
      "metadata": {
        "colab": {
          "base_uri": "https://localhost:8080/"
        },
        "id": "EIWam0YqVkSm",
        "outputId": "57c5d6dd-a1a1-4705-c672-e777db9af1b5"
      },
      "source": [
        "# calculate accuracy\n",
        "cm = confusion_matrix(y_test,rf_pred)\n",
        "print(cm)\n",
        "accuracy_score(y_test,rf_pred)"
      ],
      "execution_count": 78,
      "outputs": [
        {
          "output_type": "stream",
          "text": [
            "[[9920 3926]\n",
            " [4176 9485]]\n"
          ],
          "name": "stdout"
        },
        {
          "output_type": "execute_result",
          "data": {
            "text/plain": [
              "0.705456792816374"
            ]
          },
          "metadata": {
            "tags": []
          },
          "execution_count": 78
        }
      ]
    },
    {
      "cell_type": "code",
      "metadata": {
        "colab": {
          "base_uri": "https://localhost:8080/"
        },
        "id": "556wHZpzBCH6",
        "outputId": "f67a3c7d-f131-49f7-b87e-f96495da7ed2"
      },
      "source": [
        "# Calculate score\n",
        "accuracy = accuracy_score(y_test,rf_pred)\n",
        "precision =  precision_score(y_test,rf_pred,average=\"weighted\")\n",
        "recall = recall_score(y_test,rf_pred,average=\"weighted\")\n",
        "f1 = f1_score(y_test,rf_pred,average=\"weighted\")\n",
        "print(\"Accuracy - {}\".format(accuracy))\n",
        "print(\"Precision - {}\".format(precision))\n",
        "print(\"Recall- {}\".format(recall))\n",
        "print(\"f1 - {}\".format(f1))"
      ],
      "execution_count": 79,
      "outputs": [
        {
          "output_type": "stream",
          "text": [
            "Accuracy - 0.705456792816374\n",
            "Precision - 0.7054886891951498\n",
            "Recall- 0.705456792816374\n",
            "f1 - 0.7054144479811393\n"
          ],
          "name": "stdout"
        }
      ]
    },
    {
      "cell_type": "code",
      "metadata": {
        "colab": {
          "base_uri": "https://localhost:8080/",
          "height": 279
        },
        "id": "u4jUPlOvVrnr",
        "outputId": "65d86c14-52e1-4b32-f8a2-f4da587f5a34"
      },
      "source": [
        "# Plot Precision and recall curve\n",
        "disp = plot_precision_recall_curve(rf,x_test,y_test)"
      ],
      "execution_count": 80,
      "outputs": [
        {
          "output_type": "display_data",
          "data": {
            "image/png": "[encoded data removed]",
            "text/plain": [
              "<Figure size 432x288 with 1 Axes>"
            ]
          },
          "metadata": {
            "tags": [],
            "needs_background": "light"
          }
        }
      ]
    },
    {
      "cell_type": "markdown",
      "metadata": {
        "id": "mS3vt1IBBqjQ"
      },
      "source": [
        "#  XGBOOST"
      ]
    },
    {
      "cell_type": "code",
      "metadata": {
        "colab": {
          "base_uri": "https://localhost:8080/"
        },
        "id": "3G5x6QyUCWC9",
        "outputId": "5fa6bd45-f83a-421e-b213-005bddf410be"
      },
      "source": [
        "from xgboost import XGBClassifier\n",
        "xgb = XGBClassifier()\n",
        "xgb.fit(x_train,y_train)"
      ],
      "execution_count": 85,
      "outputs": [
        {
          "output_type": "execute_result",
          "data": {
            "text/plain": [
              "XGBClassifier(base_score=0.5, booster='gbtree', colsample_bylevel=1,\n",
              "              colsample_bynode=1, colsample_bytree=1, gamma=0,\n",
              "              learning_rate=0.1, max_delta_step=0, max_depth=3,\n",
              "              min_child_weight=1, missing=None, n_estimators=100, n_jobs=1,\n",
              "              nthread=None, objective='binary:logistic', random_state=0,\n",
              "              reg_alpha=0, reg_lambda=1, scale_pos_weight=1, seed=None,\n",
              "              silent=None, subsample=1, verbosity=1)"
            ]
          },
          "metadata": {
            "tags": []
          },
          "execution_count": 85
        }
      ]
    },
    {
      "cell_type": "code",
      "metadata": {
        "colab": {
          "base_uri": "https://localhost:8080/"
        },
        "id": "1yF8dW3tCqfs",
        "outputId": "a8c3f77f-9ae1-4373-bd27-9fad8b5e7dff"
      },
      "source": [
        "# Prediction\n",
        "xgb_pred = xgb.predict(x_test)\n",
        "xgb_pred"
      ],
      "execution_count": 86,
      "outputs": [
        {
          "output_type": "execute_result",
          "data": {
            "text/plain": [
              "array([1, 0, 1, ..., 0, 1, 0])"
            ]
          },
          "metadata": {
            "tags": []
          },
          "execution_count": 86
        }
      ]
    },
    {
      "cell_type": "code",
      "metadata": {
        "colab": {
          "base_uri": "https://localhost:8080/"
        },
        "id": "AVWdIoeCCvT2",
        "outputId": "d3f5e3c4-f153-420f-8378-f2f5bef198e0"
      },
      "source": [
        "# Calculate Accuracy\n",
        "from sklearn.metrics import confusion_matrix,accuracy_score\n",
        "cm = confusion_matrix(y_test,xgb_pred)\n",
        "print(cm)\n",
        "accuracy_score(y_test,xgb_pred)"
      ],
      "execution_count": 87,
      "outputs": [
        {
          "output_type": "stream",
          "text": [
            "[[10793  3053]\n",
            " [ 4323  9338]]\n"
          ],
          "name": "stdout"
        },
        {
          "output_type": "execute_result",
          "data": {
            "text/plain": [
              "0.7318500745264842"
            ]
          },
          "metadata": {
            "tags": []
          },
          "execution_count": 87
        }
      ]
    },
    {
      "cell_type": "code",
      "metadata": {
        "colab": {
          "base_uri": "https://localhost:8080/"
        },
        "id": "Gx3ZWTuZCBFQ",
        "outputId": "6f61e101-0391-4f7c-e9c3-c163a5174502"
      },
      "source": [
        "# Calculate score\n",
        "accuracy = accuracy_score(y_test,xgb_pred)\n",
        "precision =  precision_score(y_test,xgb_pred,average=\"weighted\")\n",
        "recall = recall_score(y_test,xgb_pred,average=\"weighted\")\n",
        "f1 = f1_score(y_test,xgb_pred,average=\"weighted\")\n",
        "print(\"Accuracy - {}\".format(accuracy))\n",
        "print(\"Precision - {}\".format(precision))\n",
        "print(\"Recall- {}\".format(recall))\n",
        "print(\"f1 - {}\".format(f1))"
      ],
      "execution_count": 88,
      "outputs": [
        {
          "output_type": "stream",
          "text": [
            "Accuracy - 0.7318500745264842\n",
            "Precision - 0.7336784021568572\n",
            "Recall- 0.7318500745264842\n",
            "f1 - 0.7311933627926023\n"
          ],
          "name": "stdout"
        }
      ]
    },
    {
      "cell_type": "code",
      "metadata": {
        "id": "WzjJ_j-L_Rul",
        "colab": {
          "base_uri": "https://localhost:8080/",
          "height": 279
        },
        "outputId": "76f0849b-42ca-4b37-8ed1-04e9e317b7e0"
      },
      "source": [
        "# Calculate precision and recall score\n",
        "disp = plot_precision_recall_curve(xgb,x_test,y_test)"
      ],
      "execution_count": 89,
      "outputs": [
        {
          "output_type": "display_data",
          "data": {
            "image/png": "[encoded data removed]",
            "text/plain": [
              "<Figure size 432x288 with 1 Axes>"
            ]
          },
          "metadata": {
            "tags": [],
            "needs_background": "light"
          }
        }
      ]
    },
    {
      "cell_type": "markdown",
      "metadata": {
        "id": "300S748xCNyp"
      },
      "source": [
        "# GRADIENT BOOSTING CLASSIFIER"
      ]
    },
    {
      "cell_type": "code",
      "metadata": {
        "colab": {
          "base_uri": "https://localhost:8080/"
        },
        "id": "RwzFCyum_-36",
        "outputId": "81a341c2-0ac0-4f33-81e9-8223b9c67f1d"
      },
      "source": [
        "from sklearn.ensemble import GradientBoostingClassifier\n",
        "gb_clf = GradientBoostingClassifier(n_estimators=20, learning_rate=0.5, max_features=2, max_depth=2, random_state=0)\n",
        "gb_clf.fit(x_train, y_train)"
      ],
      "execution_count": 90,
      "outputs": [
        {
          "output_type": "execute_result",
          "data": {
            "text/plain": [
              "GradientBoostingClassifier(ccp_alpha=0.0, criterion='friedman_mse', init=None,\n",
              "                           learning_rate=0.5, loss='deviance', max_depth=2,\n",
              "                           max_features=2, max_leaf_nodes=None,\n",
              "                           min_impurity_decrease=0.0, min_impurity_split=None,\n",
              "                           min_samples_leaf=1, min_samples_split=2,\n",
              "                           min_weight_fraction_leaf=0.0, n_estimators=20,\n",
              "                           n_iter_no_change=None, presort='deprecated',\n",
              "                           random_state=0, subsample=1.0, tol=0.0001,\n",
              "                           validation_fraction=0.1, verbose=0,\n",
              "                           warm_start=False)"
            ]
          },
          "metadata": {
            "tags": []
          },
          "execution_count": 90
        }
      ]
    },
    {
      "cell_type": "code",
      "metadata": {
        "colab": {
          "base_uri": "https://localhost:8080/"
        },
        "id": "uuy6_pLWAI6s",
        "outputId": "fee4aa6a-f1cf-4883-dd17-ec5f77673ec3"
      },
      "source": [
        "# Predict\n",
        "gb_clf_pred = gb_clf.predict(x_test)\n",
        "gb_clf_pred"
      ],
      "execution_count": 91,
      "outputs": [
        {
          "output_type": "execute_result",
          "data": {
            "text/plain": [
              "array([1, 0, 1, ..., 0, 1, 0])"
            ]
          },
          "metadata": {
            "tags": []
          },
          "execution_count": 91
        }
      ]
    },
    {
      "cell_type": "code",
      "metadata": {
        "colab": {
          "base_uri": "https://localhost:8080/"
        },
        "id": "HkJspBk7AdGD",
        "outputId": "b8bac067-52d2-4919-a29c-bf6b4d63b2f8"
      },
      "source": [
        "# Calculate Accuracy\n",
        "cm = confusion_matrix(y_test,gb_clf_pred)\n",
        "print(cm)\n",
        "accuracy_score(y_test,gb_clf_pred)"
      ],
      "execution_count": 92,
      "outputs": [
        {
          "output_type": "stream",
          "text": [
            "[[11033  2813]\n",
            " [ 4840  8821]]\n"
          ],
          "name": "stdout"
        },
        {
          "output_type": "execute_result",
          "data": {
            "text/plain": [
              "0.721779910568219"
            ]
          },
          "metadata": {
            "tags": []
          },
          "execution_count": 92
        }
      ]
    },
    {
      "cell_type": "code",
      "metadata": {
        "colab": {
          "base_uri": "https://localhost:8080/"
        },
        "id": "l37lCbd3CwmB",
        "outputId": "d1d528d9-fc84-4e03-dbb9-05d1a970dcca"
      },
      "source": [
        "# Calculate score\n",
        "accuracy = accuracy_score(y_test,gb_clf_pred)\n",
        "precision =  precision_score(y_test,gb_clf_pred,average=\"weighted\")\n",
        "recall = recall_score(y_test,gb_clf_pred,average=\"weighted\")\n",
        "f1 = f1_score(y_test,gb_clf_pred,average=\"weighted\")\n",
        "print(\"Accuracy - {}\".format(accuracy))\n",
        "print(\"Precision - {}\".format(precision))\n",
        "print(\"Recall- {}\".format(recall))\n",
        "print(\"f1 - {}\".format(f1))"
      ],
      "execution_count": 93,
      "outputs": [
        {
          "output_type": "stream",
          "text": [
            "Accuracy - 0.721779910568219\n",
            "Precision - 0.726431907886015\n",
            "Recall- 0.721779910568219\n",
            "f1 - 0.7201204823095513\n"
          ],
          "name": "stdout"
        }
      ]
    },
    {
      "cell_type": "code",
      "metadata": {
        "colab": {
          "base_uri": "https://localhost:8080/",
          "height": 279
        },
        "id": "4u-MtSdbArzW",
        "outputId": "51d673a3-d2f4-4d6b-96a1-ce2308e910f1"
      },
      "source": [
        "# Plot precision recall curve\n",
        "disp = plot_precision_recall_curve(gb_clf,x_test,y_test)"
      ],
      "execution_count": 94,
      "outputs": [
        {
          "output_type": "display_data",
          "data": {
            "image/png": "[encoded data removed]",
            "text/plain": [
              "<Figure size 432x288 with 1 Axes>"
            ]
          },
          "metadata": {
            "tags": [],
            "needs_background": "light"
          }
        }
      ]
    },
    {
      "cell_type": "markdown",
      "metadata": {
        "id": "gEWsttTSETp-"
      },
      "source": [
        "# SGDCLASSIFIER"
      ]
    },
    {
      "cell_type": "code",
      "metadata": {
        "colab": {
          "base_uri": "https://localhost:8080/"
        },
        "id": "kyHfWV_PFLTH",
        "outputId": "5435b5fe-9e33-4e28-a029-84550009c041"
      },
      "source": [
        "from sklearn.linear_model import SGDClassifier\n",
        "clf = SGDClassifier(loss=\"hinge\", penalty=\"l2\", max_iter=5)\n",
        "clf.fit(x, y)\n",
        "SGDClassifier(max_iter=5)"
      ],
      "execution_count": 95,
      "outputs": [
        {
          "output_type": "execute_result",
          "data": {
            "text/plain": [
              "SGDClassifier(alpha=0.0001, average=False, class_weight=None,\n",
              "              early_stopping=False, epsilon=0.1, eta0=0.0, fit_intercept=True,\n",
              "              l1_ratio=0.15, learning_rate='optimal', loss='hinge', max_iter=5,\n",
              "              n_iter_no_change=5, n_jobs=None, penalty='l2', power_t=0.5,\n",
              "              random_state=None, shuffle=True, tol=0.001,\n",
              "              validation_fraction=0.1, verbose=0, warm_start=False)"
            ]
          },
          "metadata": {
            "tags": []
          },
          "execution_count": 95
        }
      ]
    },
    {
      "cell_type": "code",
      "metadata": {
        "colab": {
          "base_uri": "https://localhost:8080/"
        },
        "id": "QPCSb5XVFWPB",
        "outputId": "ddd5b311-9939-4ac7-949f-2b22a9f547fb"
      },
      "source": [
        "# Prediction\n",
        "clf_pred = clf.predict(x_test)\n",
        "clf_pred"
      ],
      "execution_count": 96,
      "outputs": [
        {
          "output_type": "execute_result",
          "data": {
            "text/plain": [
              "array([0, 0, 1, ..., 0, 1, 0])"
            ]
          },
          "metadata": {
            "tags": []
          },
          "execution_count": 96
        }
      ]
    },
    {
      "cell_type": "code",
      "metadata": {
        "colab": {
          "base_uri": "https://localhost:8080/"
        },
        "id": "nIyfTSX5FcBZ",
        "outputId": "4234f63a-0c5b-4eee-9d73-8fc93a5db0c4"
      },
      "source": [
        "# calculate accuracy\n",
        "cm = confusion_matrix(y_test,clf_pred)\n",
        "print(cm)\n",
        "accuracy_score(y_test,clf_pred)"
      ],
      "execution_count": 97,
      "outputs": [
        {
          "output_type": "stream",
          "text": [
            "[[11799  2047]\n",
            " [ 7174  6487]]\n"
          ],
          "name": "stdout"
        },
        {
          "output_type": "execute_result",
          "data": {
            "text/plain": [
              "0.6647762387755844"
            ]
          },
          "metadata": {
            "tags": []
          },
          "execution_count": 97
        }
      ]
    },
    {
      "cell_type": "code",
      "metadata": {
        "colab": {
          "base_uri": "https://localhost:8080/"
        },
        "id": "hzlE2ft2El69",
        "outputId": "8b62546e-df28-4d6e-b7ae-c1a17c573089"
      },
      "source": [
        "# Calculate score\n",
        "accuracy = accuracy_score(y_test,clf_pred)\n",
        "precision =  precision_score(y_test,clf_pred,average=\"weighted\")\n",
        "recall = recall_score(y_test,clf_pred,average=\"weighted\")\n",
        "f1 = f1_score(y_test,clf_pred,average=\"weighted\")\n",
        "print(\"Accuracy - {}\".format(accuracy))\n",
        "print(\"Precision - {}\".format(precision))\n",
        "print(\"Recall- {}\".format(recall))\n",
        "print(\"f1 - {}\".format(f1))"
      ],
      "execution_count": 98,
      "outputs": [
        {
          "output_type": "stream",
          "text": [
            "Accuracy - 0.6647762387755844\n",
            "Precision - 0.6905449164182867\n",
            "Recall- 0.6647762387755844\n",
            "f1 - 0.6522426429690235\n"
          ],
          "name": "stdout"
        }
      ]
    },
    {
      "cell_type": "code",
      "metadata": {
        "colab": {
          "base_uri": "https://localhost:8080/",
          "height": 279
        },
        "id": "wYCx5SgCGRrr",
        "outputId": "8ae6769a-95c8-4fb3-f3da-a62973ae3f31"
      },
      "source": [
        "# Plot precision recall curve\n",
        "disp = plot_precision_recall_curve(clf,x_test,y_test)"
      ],
      "execution_count": 99,
      "outputs": [
        {
          "output_type": "display_data",
          "data": {
            "image/png": "[encoded data removed]",
            "text/plain": [
              "<Figure size 432x288 with 1 Axes>"
            ]
          },
          "metadata": {
            "tags": [],
            "needs_background": "light"
          }
        }
      ]
    },
    {
      "cell_type": "markdown",
      "metadata": {
        "id": "YRoccebLErOb"
      },
      "source": [
        "# ADABOSSTCLASSIFIER"
      ]
    },
    {
      "cell_type": "code",
      "metadata": {
        "colab": {
          "base_uri": "https://localhost:8080/"
        },
        "id": "4A3hTzuWJQN9",
        "outputId": "5443af3a-0f14-446a-938f-baf5c1512ecb"
      },
      "source": [
        "from sklearn.ensemble import AdaBoostClassifier\n",
        "ada = AdaBoostClassifier(n_estimators=50,\n",
        "                         learning_rate=1)\n",
        "# Train Adaboost Classifer\n",
        "model = ada.fit(x_train, y_train)\n",
        "\n",
        "#Predict the response for test dataset\n",
        "ada_pred = model.predict(x_test)\n",
        "print(ada_pred)"
      ],
      "execution_count": 100,
      "outputs": [
        {
          "output_type": "stream",
          "text": [
            "[1 0 1 ... 0 1 0]\n"
          ],
          "name": "stdout"
        }
      ]
    },
    {
      "cell_type": "code",
      "metadata": {
        "colab": {
          "base_uri": "https://localhost:8080/"
        },
        "id": "5N57dF8lJizC",
        "outputId": "701f6138-4b8e-483c-aabc-3d0b2867c479"
      },
      "source": [
        "# Calculate Accuracy\n",
        "cm = confusion_matrix(y_test,ada_pred)\n",
        "print(cm)\n",
        "accuracy_score(y_test,ada_pred)"
      ],
      "execution_count": 101,
      "outputs": [
        {
          "output_type": "stream",
          "text": [
            "[[11076  2770]\n",
            " [ 4744  8917]]\n"
          ],
          "name": "stdout"
        },
        {
          "output_type": "execute_result",
          "data": {
            "text/plain": [
              "0.726833169738612"
            ]
          },
          "metadata": {
            "tags": []
          },
          "execution_count": 101
        }
      ]
    },
    {
      "cell_type": "code",
      "metadata": {
        "colab": {
          "base_uri": "https://localhost:8080/"
        },
        "id": "zQ1ltwNnE2Ne",
        "outputId": "a4bccf91-f3fd-4d05-f65d-00e727299712"
      },
      "source": [
        "# Calculate score\n",
        "accuracy = accuracy_score(y_test,ada_pred)\n",
        "precision =  precision_score(y_test,ada_pred,average=\"weighted\")\n",
        "recall = recall_score(y_test,ada_pred,average=\"weighted\")\n",
        "f1 = f1_score(y_test,ada_pred,average=\"weighted\")\n",
        "print(\"Accuracy - {}\".format(accuracy))\n",
        "print(\"Precision - {}\".format(precision))\n",
        "print(\"Recall- {}\".format(recall))\n",
        "print(\"f1 - {}\".format(f1))"
      ],
      "execution_count": 102,
      "outputs": [
        {
          "output_type": "stream",
          "text": [
            "Accuracy - 0.726833169738612\n",
            "Precision - 0.7313440895248613\n",
            "Recall- 0.726833169738612\n",
            "f1 - 0.7252849768683806\n"
          ],
          "name": "stdout"
        }
      ]
    },
    {
      "cell_type": "code",
      "metadata": {
        "colab": {
          "base_uri": "https://localhost:8080/",
          "height": 279
        },
        "id": "LZaNt8ZbJvU7",
        "outputId": "b1d1dea4-62d3-4e53-d4d6-bbcaa8662d79"
      },
      "source": [
        "# Plot precision recall score\n",
        "disp = plot_precision_recall_curve(ada,x_test,y_test)"
      ],
      "execution_count": 103,
      "outputs": [
        {
          "output_type": "display_data",
          "data": {
            "image/png": "[encoded data removed]",
            "text/plain": [
              "<Figure size 432x288 with 1 Axes>"
            ]
          },
          "metadata": {
            "tags": [],
            "needs_background": "light"
          }
        }
      ]
    },
    {
      "cell_type": "markdown",
      "metadata": {
        "id": "0Uy4DBURIzRy"
      },
      "source": [
        "Accuracy Score of Different Clssification Models:\n",
        "1. LOGISTIC REGRESSION : 0.6946595412076926\n",
        "2. K NEIGHBORS CLASSIFIER : 0.6561966045006725\n",
        "3. SVC : 0.6949867306503799\n",
        "4. SVC(\"RBF\"): 0.689533573272258\n",
        "5. GaussionNB : 0.649689170029447\n",
        "6. DECISION TREE CLASSIFIER : 0.6332206347475188\n",
        "7. RANDOM FOREST CLASSIFIER : 0.705456792816374\n",
        "8. XGBOOST : 0.7318500745264842\n",
        "9. GRADIENT BOOSTING CLASSIFIER : 0.721779910568219\n",
        "10. SGDCLASSIFIER : 0.6647762387755844\n",
        "11. ADABOOSTCLASSIFIER : 0.726833169738612\n"
      ]
    },
    {
      "cell_type": "markdown",
      "metadata": {
        "id": "YCsBDtZAK8Ug"
      },
      "source": [
        "From above we can find conclusion that classifier XGBOOST is predicting best among all the classifier with accuracy 0.73185"
      ]
    },
    {
      "cell_type": "code",
      "metadata": {
        "id": "JRZPLeU5LUgO"
      },
      "source": [
        ""
      ],
      "execution_count": null,
      "outputs": []
    }
  ]
}